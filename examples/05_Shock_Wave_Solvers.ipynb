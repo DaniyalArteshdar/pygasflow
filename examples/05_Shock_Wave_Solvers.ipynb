{
 "cells": [
  {
   "cell_type": "markdown",
   "metadata": {},
   "source": [
    "# Shock wave solvers"
   ]
  },
  {
   "cell_type": "markdown",
   "metadata": {},
   "source": [
    "If you are looking for a rapid way to compute all the ratios across the shock wave, you have come to the right place.\n",
    "\n",
    "Two solvers are implemented:\n",
    "1. `shockwave_solver`: use this to solve for normal or oblique shock waves.\n",
    "2. `conical_shockwave_solver`: use this to solve for conical shock wave.\n",
    "\n",
    "In the following, a few examples are presented to show how to use them and to understand some of the limitations."
   ]
  },
  {
   "cell_type": "code",
   "execution_count": 1,
   "metadata": {},
   "outputs": [],
   "source": [
    "from pygasflow.solvers import (\n",
    "    shockwave_solver,\n",
    "    conical_shockwave_solver\n",
    ")"
   ]
  },
  {
   "cell_type": "markdown",
   "metadata": {},
   "source": [
    "## `shockwave_solver`\n",
    "\n",
    "Let's look at the documentation for this function to see how it works:"
   ]
  },
  {
   "cell_type": "code",
   "execution_count": 2,
   "metadata": {},
   "outputs": [
    {
     "name": "stdout",
     "output_type": "stream",
     "text": [
      "Help on function shockwave_solver in module pygasflow.solvers.shockwave:\n",
      "\n",
      "shockwave_solver(param_name, param_value, angle_name='beta', angle_value=90, gamma=1.4, flag='weak')\n",
      "    Try to compute all the ratios, angles and mach numbers across the shock wave.\n",
      "    \n",
      "    Remember: a normal shock wave has a wave angle beta=90 deg.\n",
      "    \n",
      "    Parameters\n",
      "    ----------\n",
      "        param_name : string\n",
      "            Name of the parameter given in input. Can be either one of:\n",
      "                ['pressure', 'temperature', 'density', 'total_pressure', 'm1', 'mn1', 'mn2', 'beta', 'theta']\n",
      "            If the parameter is a ratio, it is in the form downstream/upstream:\n",
      "                'pressure': p2/p1\n",
      "                'temperature': t2/t1\n",
      "                'density': rho2/rho1\n",
      "                'total_pressure': p02/p01\n",
      "                'm1': Mach upstream of the shock wave\n",
      "                'mn1': Normal Mach upstream of the shock wave\n",
      "                'mn2': Normal Mach downstream of the shock wave\n",
      "                'beta': The shock wave angle [in degrees]. It can only be used if angle_name='theta'.\n",
      "                'theta': The deflection angle [in degrees]. It can only be used if angle_name='beta'.\n",
      "        param_value : float\n",
      "            Actual value of the parameter.\n",
      "        angle_name : string\n",
      "            Name of the angle given as parameter. It could either be:\n",
      "                'beta': Shock wave angle.\n",
      "                'theta: Flow deflection angle.\n",
      "            Default to 'beta'.\n",
      "        angle_value : float\n",
      "            Value of the angle in degrees.\n",
      "            Default to 90 degrees (normal shock wave)\n",
      "        gamma : float\n",
      "            Specific heats ratio. Default to 1.4. Must be > 1.\n",
      "        flag : string\n",
      "            Chose what solution to compute if the angle 'theta' is provided.\n",
      "            Can be either 'weak' or 'strong'. \n",
      "            Default to 'weak'. \n",
      "    \n",
      "    Returns\n",
      "    -------\n",
      "        beta : float\n",
      "            Shock wave angle in degrees.\n",
      "        theta : float\n",
      "            Flow deflection angle in degrees.\n",
      "        M1 : float\n",
      "            Mach number upstream of the shock wave.\n",
      "        Mn1 : float\n",
      "            Normal Mach number upstream of the shock wave.\n",
      "        M2 : float\n",
      "            Mach number downstream of the shock wave.\n",
      "        Mn2 : float\n",
      "            Normal Mach number downstream of the shock wave.\n",
      "        pr : float\n",
      "            Pressure ratio across the shock wave.\n",
      "        dr : float\n",
      "            Density ratio across the shock wave.\n",
      "        tr : float\n",
      "            Temperature ratio across the shock wave.\n",
      "        tpr : float\n",
      "            Total Pressure ratio across the shock wave.\n",
      "\n"
     ]
    }
   ],
   "source": [
    "help(shockwave_solver)"
   ]
  },
  {
   "cell_type": "markdown",
   "metadata": {},
   "source": [
    "As we can see, it is really quite simple to use it. Just insert the name of the known parameter, its value, the name of the angle and its value, the specific heats ratio and you are good to go.\n",
    "\n",
    "Let's first create a simple function to print the results:"
   ]
  },
  {
   "cell_type": "code",
   "execution_count": 3,
   "metadata": {},
   "outputs": [],
   "source": [
    "def Print_Oblique_Shockwave(M1, MN1, M2, MN2, beta, theta, pr, dr, tr, tpr):\n",
    "    print(\"M1 \\t\\t {}\".format(M1))\n",
    "    print(\"Mn1 \\t\\t {}\".format(MN1))\n",
    "    print(\"M2 \\t\\t {}\".format(M2))\n",
    "    print(\"Mn2 \\t\\t {}\".format(MN2))\n",
    "    print(\"beta \\t\\t {}\".format(beta))\n",
    "    print(\"theta \\t\\t {}\".format(theta))\n",
    "    print(\"p2/p1 \\t\\t {}\".format(pr))\n",
    "    print(\"rho2/rho1 \\t {}\".format(dr))\n",
    "    print(\"t2/t1 \\t\\t {}\".format(tr))\n",
    "    print(\"p02/p01 \\t {}\".format(tpr))\n",
    "    print()"
   ]
  },
  {
   "cell_type": "markdown",
   "metadata": {},
   "source": [
    "### Normal Shock Wave\n",
    "\n",
    "By default, this function can be used to solve **normal shock wave** on air (specific heats ratio $\\gamma=1.4$ and shock wave angle $\\beta=90$):"
   ]
  },
  {
   "cell_type": "code",
   "execution_count": 4,
   "metadata": {},
   "outputs": [
    {
     "name": "stdout",
     "output_type": "stream",
     "text": [
      "M1 \t\t 4\n",
      "Mn1 \t\t 4.0\n",
      "M2 \t\t 0.43495883620084\n",
      "Mn2 \t\t 0.43495883620084\n",
      "beta \t\t 90\n",
      "theta \t\t 1.2529838033097996e-14\n",
      "p2/p1 \t\t 18.5\n",
      "rho2/rho1 \t 4.571428571428572\n",
      "t2/t1 \t\t 4.046874999999999\n",
      "p02/p01 \t 0.13875622089168838\n",
      "\n"
     ]
    }
   ],
   "source": [
    "result = shockwave_solver(\"m1\", 4)\n",
    "Print_Oblique_Shockwave(*result)"
   ]
  },
  {
   "cell_type": "markdown",
   "metadata": {},
   "source": [
    "Because this function is designed to solve also oblique shock waves, we have some parameters that we can discard:\n",
    "1. Mn1, the normal Mach number upstream of the shock wave, which is obviously equal to M1.\n",
    "2. Mn2, the normal Mach number downstream of the shock wave, which is obviously equal to M2.\n",
    "3. beta, the shock wave angle, obviously $90°$ since we are solving a normal shock wave.\n",
    "4. theta, the deflection angle. We notice a very small value. Indeed, in this case it should be 0, but numerical errors are preventing this result. Anyway, since we are solving a normal shock wave, we do not need to worry about this angle."
   ]
  },
  {
   "cell_type": "markdown",
   "metadata": {},
   "source": [
    "Let's look at the same example, but inserting different parameters. We expect the very same results, and indeed we get them."
   ]
  },
  {
   "cell_type": "code",
   "execution_count": 5,
   "metadata": {},
   "outputs": [
    {
     "name": "stdout",
     "output_type": "stream",
     "text": [
      "M1 \t\t 4.0\n",
      "Mn1 \t\t 4.0\n",
      "M2 \t\t 0.43495883620084\n",
      "Mn2 \t\t 0.43495883620084\n",
      "beta \t\t 90\n",
      "theta \t\t 1.2529838033097996e-14\n",
      "p2/p1 \t\t 18.5\n",
      "rho2/rho1 \t 4.571428571428572\n",
      "t2/t1 \t\t 4.046874999999999\n",
      "p02/p01 \t 0.13875622089168838\n",
      "\n",
      "M1 \t\t 4.0\n",
      "Mn1 \t\t 4.0\n",
      "M2 \t\t 0.43495883620084\n",
      "Mn2 \t\t 0.43495883620084\n",
      "beta \t\t 90\n",
      "theta \t\t 1.2529838033097996e-14\n",
      "p2/p1 \t\t 18.5\n",
      "rho2/rho1 \t 4.571428571428572\n",
      "t2/t1 \t\t 4.046874999999999\n",
      "p02/p01 \t 0.13875622089168838\n",
      "\n",
      "M1 \t\t 4.0\n",
      "Mn1 \t\t 4.0\n",
      "M2 \t\t 0.43495883620084\n",
      "Mn2 \t\t 0.43495883620084\n",
      "beta \t\t 90\n",
      "theta \t\t 1.2529838033097996e-14\n",
      "p2/p1 \t\t 18.5\n",
      "rho2/rho1 \t 4.571428571428572\n",
      "t2/t1 \t\t 4.046874999999999\n",
      "p02/p01 \t 0.13875622089168838\n",
      "\n",
      "M1 \t\t 4.0\n",
      "Mn1 \t\t 4.0\n",
      "M2 \t\t 0.43495883620084\n",
      "Mn2 \t\t 0.43495883620084\n",
      "beta \t\t 90\n",
      "theta \t\t 1.2529838033097996e-14\n",
      "p2/p1 \t\t 18.5\n",
      "rho2/rho1 \t 4.571428571428572\n",
      "t2/t1 \t\t 4.046874999999999\n",
      "p02/p01 \t 0.13875622089168838\n",
      "\n"
     ]
    }
   ],
   "source": [
    "r1 = shockwave_solver(\"pressure\", 18.5)\n",
    "r2 = shockwave_solver(\"density\", 4.571428571428572)\n",
    "r3 = shockwave_solver(\"temperature\", 4.046874999999999)\n",
    "r4 = shockwave_solver(\"mn2\", 0.43495883620084)\n",
    "\n",
    "Print_Oblique_Shockwave(*r1)\n",
    "Print_Oblique_Shockwave(*r2)\n",
    "Print_Oblique_Shockwave(*r3)\n",
    "Print_Oblique_Shockwave(*r4)"
   ]
  },
  {
   "cell_type": "markdown",
   "metadata": {},
   "source": [
    "What if I want to solve a normal shock wave on a gas different than air? Obviously I need to change the specific heats ratio. But since the function accept positional arguments, we also have to tell it to solve for a normal shock wave, therefore we need to explicitely insert the shock wave angle $\\beta=90°$:"
   ]
  },
  {
   "cell_type": "code",
   "execution_count": 6,
   "metadata": {},
   "outputs": [
    {
     "name": "stdout",
     "output_type": "stream",
     "text": [
      "M1 \t\t 4\n",
      "Mn1 \t\t 4.0\n",
      "M2 \t\t 0.3689521031926255\n",
      "Mn2 \t\t 0.3689521031926255\n",
      "beta \t\t 90\n",
      "theta \t\t 2.024050759192753e-14\n",
      "p2/p1 \t\t 17.36363636363636\n",
      "rho2/rho1 \t 6.769230769230771\n",
      "t2/t1 \t\t 2.5650826446280983\n",
      "p02/p01 \t 0.06095825251291948\n",
      "\n"
     ]
    }
   ],
   "source": [
    "result = shockwave_solver(\"m1\", 4, \"beta\", 90, gamma=1.2)\n",
    "Print_Oblique_Shockwave(*result)"
   ]
  },
  {
   "cell_type": "markdown",
   "metadata": {},
   "source": [
    "### Oblique Shock Wave\n",
    "\n",
    "Let's now consider an **oblique shock wave**. Let's start with air, upstream Mach number $M_{1} = 4$ and a deflection angle $\\theta = 20°$."
   ]
  },
  {
   "cell_type": "code",
   "execution_count": 7,
   "metadata": {},
   "outputs": [
    {
     "name": "stdout",
     "output_type": "stream",
     "text": [
      "M1 \t\t 4\n",
      "Mn1 \t\t 2.147072259523833\n",
      "M2 \t\t 2.5686168890322807\n",
      "Mn2 \t\t 0.5543701693902555\n",
      "beta \t\t 32.46389685027039\n",
      "theta \t\t 20\n",
      "p2/p1 \t\t 5.211572502219574\n",
      "rho2/rho1 \t 2.8782256018884964\n",
      "t2/t1 \t\t 1.8106893701453053\n",
      "p02/p01 \t 0.6524015014542756\n",
      "\n"
     ]
    }
   ],
   "source": [
    "result = shockwave_solver(\"m1\", 4, 'theta', 20)\n",
    "Print_Oblique_Shockwave(*result)"
   ]
  },
  {
   "cell_type": "markdown",
   "metadata": {},
   "source": [
    "As we have seen from the documentation, if the deflection angle $\\theta$ is provided, by default the function will solve for the _**weak shock solution**_. If we want to solve for the _**strong shock solution**_, we must change the `flag` argument. But in doing so, we also need to specify the specific heats ratio."
   ]
  },
  {
   "cell_type": "code",
   "execution_count": 8,
   "metadata": {},
   "outputs": [
    {
     "name": "stdout",
     "output_type": "stream",
     "text": [
      "M1 \t\t 4\n",
      "Mn1 \t\t 3.977010652739413\n",
      "M2 \t\t 0.48523272499938425\n",
      "Mn2 \t\t 0.43558154682352673\n",
      "beta \t\t 83.85418932598304\n",
      "theta \t\t 20\n",
      "p2/p1 \t\t 18.286049354003236\n",
      "rho2/rho1 \t 4.5588434129476605\n",
      "t2/t1 \t\t 4.011115912002739\n",
      "p02/p01 \t 0.14147889026890678\n",
      "\n"
     ]
    }
   ],
   "source": [
    "result = shockwave_solver(\"m1\", 4, 'theta', 20, gamma=1.4, flag='strong')\n",
    "Print_Oblique_Shockwave(*result)"
   ]
  },
  {
   "cell_type": "markdown",
   "metadata": {},
   "source": [
    "Again, we can insert different parameter to solve for the shock. For example, let's say I know the pressure ratio across the shock, the deflection angle, and I want to solve for the _**weak shock solution**_. I can do:"
   ]
  },
  {
   "cell_type": "code",
   "execution_count": 9,
   "metadata": {},
   "outputs": [
    {
     "name": "stdout",
     "output_type": "stream",
     "text": [
      "M1 \t\t nan\n",
      "Mn1 \t\t 2.147072259523833\n",
      "M2 \t\t nan\n",
      "Mn2 \t\t 0.5543701693902555\n",
      "beta \t\t nan\n",
      "theta \t\t 20\n",
      "p2/p1 \t\t 5.211572502219574\n",
      "rho2/rho1 \t 2.8782256018884964\n",
      "t2/t1 \t\t 1.8106893701453053\n",
      "p02/p01 \t 0.6524015014542756\n",
      "\n"
     ]
    }
   ],
   "source": [
    "result = shockwave_solver(\"pressure\", 5.211572502219574, 'theta', 20)\n",
    "Print_Oblique_Shockwave(*result)"
   ]
  },
  {
   "cell_type": "markdown",
   "metadata": {},
   "source": [
    "Comparing with the previous results, we see that the ratios are correct, the normal Mach numbers are correct, but the shock wave angle $\\beta$ and thus the Mach numbers upstream and downstream of the shock are not determined.\n",
    "This is to be expected: given a ratio, we can compute only the normal Mach number across the shock wave corresponsing to the weak solution, but we are unable to uniquely determine the shock wave angle $\\beta$ and the Mach number."
   ]
  },
  {
   "cell_type": "markdown",
   "metadata": {},
   "source": [
    "Therefore, **if we would like to compute the _strong shock solution_ giving a ratio and the deflection angle $\\theta$, we will get the wrong results**:"
   ]
  },
  {
   "cell_type": "code",
   "execution_count": 10,
   "metadata": {},
   "outputs": [
    {
     "name": "stdout",
     "output_type": "stream",
     "text": [
      "M1 \t\t nan\n",
      "Mn1 \t\t 2.147072259523833\n",
      "M2 \t\t nan\n",
      "Mn2 \t\t 0.5543701693902555\n",
      "beta \t\t nan\n",
      "theta \t\t 20\n",
      "p2/p1 \t\t 5.211572502219574\n",
      "rho2/rho1 \t 2.8782256018884964\n",
      "t2/t1 \t\t 1.8106893701453053\n",
      "p02/p01 \t 0.6524015014542756\n",
      "\n"
     ]
    }
   ],
   "source": [
    "result = shockwave_solver(\"pressure\", 5.211572502219574, 'theta', 20, gamma=1.4, flag='strong')\n",
    "Print_Oblique_Shockwave(*result)"
   ]
  },
  {
   "cell_type": "markdown",
   "metadata": {},
   "source": [
    "Even by specify the `flag='strong'`, at the moment of writing this tutorial, it is not possible to compute the Normal Mach number corresponding to strong solution of the input ration, and it is not possible to uniquely determine the shock wave angle $\\beta$ and thus computing the correct results."
   ]
  },
  {
   "cell_type": "markdown",
   "metadata": {},
   "source": [
    "Finally, we can solve a shock wave by knowing both the shock wave angle $\\beta$ and the deflection angle $\\theta$. Following the previus example, by chosing the shock wave angle corresponding to the weak solution we get:"
   ]
  },
  {
   "cell_type": "code",
   "execution_count": 11,
   "metadata": {},
   "outputs": [
    {
     "name": "stdout",
     "output_type": "stream",
     "text": [
      "M1 \t\t 4.000000000000003\n",
      "Mn1 \t\t 2.1470722595238345\n",
      "M2 \t\t 2.5686168890322807\n",
      "Mn2 \t\t 0.5543701693902553\n",
      "beta \t\t 32.46389685027039\n",
      "theta \t\t 20.000000000000004\n",
      "p2/p1 \t\t 5.211572502219582\n",
      "rho2/rho1 \t 2.8782256018884977\n",
      "t2/t1 \t\t 1.8106893701453068\n",
      "p02/p01 \t 0.6524015014542744\n",
      "\n",
      "\n",
      "M1 \t\t 4.000000000000003\n",
      "Mn1 \t\t 2.1470722595238345\n",
      "M2 \t\t 2.5686168890322807\n",
      "Mn2 \t\t 0.5543701693902553\n",
      "beta \t\t 32.46389685027039\n",
      "theta \t\t 20.000000000000004\n",
      "p2/p1 \t\t 5.211572502219582\n",
      "rho2/rho1 \t 2.8782256018884977\n",
      "t2/t1 \t\t 1.8106893701453068\n",
      "p02/p01 \t 0.6524015014542744\n",
      "\n"
     ]
    }
   ],
   "source": [
    "r1 = shockwave_solver(\"beta\", 32.46389685027039, 'theta', 20)\n",
    "r2 = shockwave_solver('theta', 20, \"beta\", 32.46389685027039)\n",
    "Print_Oblique_Shockwave(*r1)\n",
    "print()\n",
    "Print_Oblique_Shockwave(*r2)"
   ]
  },
  {
   "cell_type": "markdown",
   "metadata": {},
   "source": [
    "Note that we do not need to specify the `flag` arguments, since for each $(\\beta, \\theta)$ corresponds only one Mach number.\n",
    "\n",
    "By chosing the shock wave angle corresponding to the strong solution we get:"
   ]
  },
  {
   "cell_type": "code",
   "execution_count": 12,
   "metadata": {},
   "outputs": [
    {
     "name": "stdout",
     "output_type": "stream",
     "text": [
      "M1 \t\t 3.9999999999999862\n",
      "Mn1 \t\t 3.9770106527393994\n",
      "M2 \t\t 0.48523272499938463\n",
      "Mn2 \t\t 0.4355815468235271\n",
      "beta \t\t 83.85418932598304\n",
      "theta \t\t 19.99999999999999\n",
      "p2/p1 \t\t 18.286049354003108\n",
      "rho2/rho1 \t 4.558843412947653\n",
      "t2/t1 \t\t 4.011115912002717\n",
      "p02/p01 \t 0.14147889026890847\n",
      "\n",
      "M1 \t\t 3.9999999999999862\n",
      "Mn1 \t\t 3.9770106527393994\n",
      "M2 \t\t 0.48523272499938463\n",
      "Mn2 \t\t 0.4355815468235271\n",
      "beta \t\t 83.85418932598304\n",
      "theta \t\t 19.99999999999999\n",
      "p2/p1 \t\t 18.286049354003108\n",
      "rho2/rho1 \t 4.558843412947653\n",
      "t2/t1 \t\t 4.011115912002717\n",
      "p02/p01 \t 0.14147889026890847\n",
      "\n"
     ]
    }
   ],
   "source": [
    "r1 = shockwave_solver(\"beta\", 83.85418932598304, 'theta', 20)\n",
    "r2 = shockwave_solver('theta', 20, \"beta\", 83.85418932598304)\n",
    "Print_Oblique_Shockwave(*r1)\n",
    "Print_Oblique_Shockwave(*r2)"
   ]
  },
  {
   "cell_type": "markdown",
   "metadata": {},
   "source": [
    "## `conical_shockwave_solver`\n",
    "\n",
    "**Note: this solver is still at its infancy. It is also slow to converge to solution.**\n",
    "\n",
    "Let's look at the documentation for this function to see how it works:"
   ]
  },
  {
   "cell_type": "code",
   "execution_count": 13,
   "metadata": {},
   "outputs": [
    {
     "name": "stdout",
     "output_type": "stream",
     "text": [
      "Help on function conical_shockwave_solver in module pygasflow.solvers.shockwave:\n",
      "\n",
      "conical_shockwave_solver(M1, param_name, param_value, gamma=1.5, step=0.025)\n",
      "    Try to compute all the ratios, angles and mach numbers across the conical shock wave.\n",
      "    \n",
      "    Parameters\n",
      "    ----------\n",
      "        M1 : float\n",
      "            Upstream Mach number. Must be M1 > 1.\n",
      "        param_name : string\n",
      "            Name of the parameter given in input. Can be either one of:\n",
      "                ['mc', 'theta_c', 'beta']\n",
      "                'mc': Mach number at the cone's surface.\n",
      "                'theta_c': Half cone angle.\n",
      "                'beta': shock wave angle.\n",
      "        param_value : float\n",
      "            Actual value of the parameter. Requirements:\n",
      "                Mc >= 0\n",
      "                0 < beta <= 90\n",
      "                0 < theta_c < 90\n",
      "        gamma : float\n",
      "            Specific heats ratio. Default to 1.4. Must be > 1.\n",
      "        step : float\n",
      "            Angle-increment used on the shock wave angle iteration. Default to 0.025 deg.\n",
      "    \n",
      "    Returns\n",
      "    -------\n",
      "        M : float\n",
      "            Upstream Mach number.\n",
      "        Mc : float\n",
      "            Mach number at the surface of the cone.\n",
      "        theta_c : float\n",
      "            Half cone angle.\n",
      "        beta : float\n",
      "            Shock wave angle.\n",
      "        delta : float\n",
      "            Flow deflection angle.\n",
      "        pr : float\n",
      "            Pressure ratio across the shock wave.\n",
      "        dr : float\n",
      "            Density ratio across the shock wave.\n",
      "        tr : float\n",
      "            Temperature ratio across the shock wave.\n",
      "        tpr : float\n",
      "            Total Pressure ratio across the shock wave.\n",
      "        pc_p1 : float\n",
      "            Pressure ratio between the cone's surface and the upstream condition.\n",
      "        rhoc_rho1 : float\n",
      "            Density ratio between the cone's surface and the upstream condition.\n",
      "        Tc_T1 : float\n",
      "            Temperature ratio between the cone's surface and the upstream condition.\n",
      "\n"
     ]
    }
   ],
   "source": [
    "help(conical_shockwave_solver)"
   ]
  },
  {
   "cell_type": "code",
   "execution_count": 14,
   "metadata": {},
   "outputs": [],
   "source": [
    "def Print_Conical_Shockwave(M1, Mc, theta_c, beta, delta, pr, dr, tr, tpr, pc_p1, rhoc_rho1, Tc_T1):\n",
    "    print(\"M1 \\t\\t {}\".format(M1))\n",
    "    print(\"Mc \\t\\t {}\".format(Mc))\n",
    "    print(\"theta_c \\t {}\".format(theta_c))\n",
    "    print(\"beta \\t\\t {}\".format(beta))\n",
    "    print(\"delta \\t\\t {}\".format(delta))\n",
    "    print(\"p2/p1 \\t\\t {}\".format(pr))\n",
    "    print(\"rho2/rho1 \\t {}\".format(dr))\n",
    "    print(\"t2/t1 \\t\\t {}\".format(tr))\n",
    "    print(\"p02/p01 \\t {}\".format(tpr))\n",
    "    print(\"pc/p1 \\t\\t {}\".format(pc_p1))\n",
    "    print(\"rho_c/rho1 \\t {}\".format(rhoc_rho1))\n",
    "    print(\"tc/t1 \\t\\t {}\".format(Tc_T1))"
   ]
  },
  {
   "cell_type": "code",
   "execution_count": 15,
   "metadata": {},
   "outputs": [
    {
     "name": "stdout",
     "output_type": "stream",
     "text": [
      "M1 \t\t 4\n",
      "Mc \t\t 3.2681614254080893\n",
      "theta_c \t 12.684520832934147\n",
      "beta \t\t 20\n",
      "delta \t\t 7.136161338187718\n",
      "p2/p1 \t\t 2.045973346057811\n",
      "rho2/rho1 \t 1.593799206829545\n",
      "t2/t1 \t\t 1.2837083475074318\n",
      "p02/p01 \t 0.9671656770420596\n",
      "pc/p1 \t\t 2.688264423933901\n",
      "rho_c/rho1 \t 1.8321453503519118\n",
      "tc/t1 \t\t 1.3573032614019487\n"
     ]
    }
   ],
   "source": [
    "result = conical_shockwave_solver(4, 'beta', 20)\n",
    "Print_Conical_Shockwave(*result)"
   ]
  },
  {
   "cell_type": "code",
   "execution_count": 16,
   "metadata": {},
   "outputs": [
    {
     "name": "stderr",
     "output_type": "stream",
     "text": [
      "/home/davide/Documents/Development/Aerothermodynamics/code/pygasflow/pygasflow/shockwave.py:904: RuntimeWarning: divide by zero encountered in double_scalars\n",
      "  (V_r * V_theta**2 - (gamma - 1) / 2 * (1 - V_r**2 - V_theta**2) * (2 * V_r + V_theta / np.tan(theta))) / ((gamma - 1) / 2 * (1 - V_r**2 - V_theta**2) - V_theta**2)\n",
      "/home/davide/Documents/Development/Aerothermodynamics/code/pygasflow/pygasflow/shockwave.py:904: RuntimeWarning: invalid value encountered in double_scalars\n",
      "  (V_r * V_theta**2 - (gamma - 1) / 2 * (1 - V_r**2 - V_theta**2) * (2 * V_r + V_theta / np.tan(theta))) / ((gamma - 1) / 2 * (1 - V_r**2 - V_theta**2) - V_theta**2)\n"
     ]
    },
    {
     "name": "stdout",
     "output_type": "stream",
     "text": [
      "M1 \t\t 3\n",
      "Mc \t\t 2.44327243925056\n",
      "theta_c \t 15\n",
      "beta \t\t 25.49622063449035\n",
      "delta \t\t 7.535568569709592\n",
      "p2/p1 \t\t 1.80111628408395\n",
      "rho2/rho1 \t 1.4711675264007655\n",
      "t2/t1 \t\t 1.2242768085633382\n",
      "p02/p01 \t 0.9815284323535788\n",
      "pc/p1 \t\t 2.3050798843859783\n",
      "rho_c/rho1 \t 1.6984921372085275\n",
      "tc/t1 \t\t 1.2967020189598906\n"
     ]
    }
   ],
   "source": [
    "result = conical_shockwave_solver(3, 'theta_c', 15)\n",
    "Print_Conical_Shockwave(*result)"
   ]
  },
  {
   "cell_type": "code",
   "execution_count": 17,
   "metadata": {},
   "outputs": [
    {
     "name": "stdout",
     "output_type": "stream",
     "text": [
      "M1 \t\t 3\n",
      "Mc \t\t 2\n",
      "theta_c \t 24.32091206304596\n",
      "beta \t\t 34.32122063448985\n",
      "delta \t\t 16.19142398557928\n",
      "p2/p1 \t\t 3.2333901237412705\n",
      "rho2/rho1 \t 2.085040349200124\n",
      "t2/t1 \t\t 1.5507566196412859\n",
      "p02/p01 \t 0.8670161283734591\n",
      "pc/p1 \t\t 4.070300921097319\n",
      "rho_c/rho1 \t 2.3139982304670688\n",
      "tc/t1 \t\t 1.616750735515699\n"
     ]
    }
   ],
   "source": [
    "result = conical_shockwave_solver(3, 'mc', 2)\n",
    "Print_Conical_Shockwave(*result)"
   ]
  },
  {
   "cell_type": "code",
   "execution_count": 18,
   "metadata": {},
   "outputs": [
    {
     "name": "stdout",
     "output_type": "stream",
     "text": [
      "M1 \t\t 3\n",
      "Mc \t\t 2\n",
      "theta_c \t 24.32091206304596\n",
      "beta \t\t 34.32122063448985\n",
      "delta \t\t 16.19142398557928\n",
      "p2/p1 \t\t 3.2333901237412705\n",
      "rho2/rho1 \t 2.085040349200124\n",
      "t2/t1 \t\t 1.5507566196412859\n",
      "p02/p01 \t 0.8670161283734591\n",
      "pc/p1 \t\t 4.070300921097319\n",
      "rho_c/rho1 \t 2.3139982304670688\n",
      "tc/t1 \t\t 1.616750735515699\n"
     ]
    }
   ],
   "source": [
    "result = conical_shockwave_solver(3, 'mc', 2)\n",
    "Print_Conical_Shockwave(*result)"
   ]
  },
  {
   "cell_type": "code",
   "execution_count": null,
   "metadata": {},
   "outputs": [],
   "source": []
  }
 ],
 "metadata": {
  "kernelspec": {
   "display_name": "myenv",
   "language": "python",
   "name": "myenv"
  },
  "language_info": {
   "codemirror_mode": {
    "name": "ipython",
    "version": 3
   },
   "file_extension": ".py",
   "mimetype": "text/x-python",
   "name": "python",
   "nbconvert_exporter": "python",
   "pygments_lexer": "ipython3",
   "version": "3.7.3"
  }
 },
 "nbformat": 4,
 "nbformat_minor": 2
}
