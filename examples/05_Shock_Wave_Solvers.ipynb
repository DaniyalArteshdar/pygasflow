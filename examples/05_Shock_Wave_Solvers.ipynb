{
 "cells": [
  {
   "cell_type": "markdown",
   "metadata": {},
   "source": [
    "# Shock wave solvers"
   ]
  },
  {
   "cell_type": "markdown",
   "metadata": {},
   "source": [
    "If you are looking for a rapid way to compute all the ratios across the shock wave, you have come to the right place.\n",
    "\n",
    "Two solvers are implemented:\n",
    "1. `shockwave_solver`: use this to solve for normal or oblique shock waves.\n",
    "2. `conical_shockwave_solver`: use this to solve for conical shock wave.\n",
    "\n",
    "In the following, a few examples are presented to show how to use them and to understand some of the limitations."
   ]
  },
  {
   "cell_type": "code",
   "execution_count": 1,
   "metadata": {},
   "outputs": [],
   "source": [
    "from pygasflow import (\n",
    "    shockwave_solver,\n",
    "    conical_shockwave_solver\n",
    ")"
   ]
  },
  {
   "cell_type": "markdown",
   "metadata": {},
   "source": [
    "## `shockwave_solver`\n",
    "\n",
    "Let's look at the documentation for this function to see how it works:"
   ]
  },
  {
   "cell_type": "code",
   "execution_count": 2,
   "metadata": {},
   "outputs": [
    {
     "name": "stdout",
     "output_type": "stream",
     "text": [
      "Help on function shockwave_solver in module pygasflow.solvers.shockwave:\n",
      "\n",
      "shockwave_solver(p1_name, p1_value, p2_name='beta', p2_value=90, gamma=1.4, flag='weak')\n",
      "    Try to compute all the ratios, angles and mach numbers across the shock wave.\n",
      "    \n",
      "    Remember: a normal shock wave has a wave angle beta=90 deg.\n",
      "    \n",
      "    Parameters\n",
      "    ----------\n",
      "        p1_name : string\n",
      "            Name of the first parameter given in input. Can be either one of:\n",
      "                ['pressure', 'temperature', 'density', 'total_pressure', 'm1', 'mn1', 'mn2', 'beta', 'theta']\n",
      "            If the parameter is a ratio, it is in the form downstream/upstream:\n",
      "                'pressure': p2/p1\n",
      "                'temperature': t2/t1\n",
      "                'density': rho2/rho1\n",
      "                'total_pressure': p02/p01\n",
      "                'm1': Mach upstream of the shock wave\n",
      "                'mn1': Normal Mach upstream of the shock wave\n",
      "                'mn2': Normal Mach downstream of the shock wave\n",
      "                'beta': The shock wave angle [in degrees]. It can only be used if p2_name='theta'.\n",
      "                'theta': The deflection angle [in degrees]. It can only be used if p2_name='beta'.\n",
      "        p1_value : float\n",
      "            Actual value of the parameter.\n",
      "        p2_name : string\n",
      "            Name of the second parameter. It could either be:\n",
      "                'beta': Shock wave angle.\n",
      "                'theta: Flow deflection angle.\n",
      "                'mn1': Input Normal Mach number\n",
      "            Default to 'beta'.\n",
      "        p2_value : float\n",
      "            Value of the angle in degrees.\n",
      "            Default to 90 degrees (normal shock wave)\n",
      "        gamma : float\n",
      "            Specific heats ratio. Default to 1.4. Must be > 1.\n",
      "        flag : string\n",
      "            Chose what solution to compute if the angle 'theta' is provided.\n",
      "            Can be either 'weak' or 'strong'. \n",
      "            Default to 'weak'. \n",
      "    \n",
      "    Returns\n",
      "    -------\n",
      "        M1 : float\n",
      "            Mach number upstream of the shock wave.\n",
      "        Mn1 : float\n",
      "            Normal Mach number upstream of the shock wave.\n",
      "        M2 : float\n",
      "            Mach number downstream of the shock wave.\n",
      "        Mn2 : float\n",
      "            Normal Mach number downstream of the shock wave.\n",
      "        beta : float\n",
      "            Shock wave angle in degrees.\n",
      "        theta : float\n",
      "            Flow deflection angle in degrees.\n",
      "        pr : float\n",
      "            Pressure ratio across the shock wave.\n",
      "        dr : float\n",
      "            Density ratio across the shock wave.\n",
      "        tr : float\n",
      "            Temperature ratio across the shock wave.\n",
      "        tpr : float\n",
      "            Total Pressure ratio across the shock wave.\n",
      "\n"
     ]
    }
   ],
   "source": [
    "help(shockwave_solver)"
   ]
  },
  {
   "cell_type": "markdown",
   "metadata": {},
   "source": [
    "As we can see, it is really quite simple to use it. Just insert the name of the known parameter, its value, the name of the angle and its value, the specific heats ratio and you are good to go.\n",
    "\n",
    "Let's first create a simple function to print the results:"
   ]
  },
  {
   "cell_type": "code",
   "execution_count": 2,
   "metadata": {},
   "outputs": [],
   "source": [
    "def Print_Oblique_Shockwave(M1, MN1, M2, MN2, beta, theta, pr, dr, tr, tpr):\n",
    "    print(\"M1 \\t\\t {}\".format(M1))\n",
    "    print(\"Mn1 \\t\\t {}\".format(MN1))\n",
    "    print(\"M2 \\t\\t {}\".format(M2))\n",
    "    print(\"Mn2 \\t\\t {}\".format(MN2))\n",
    "    print(\"beta \\t\\t {}\".format(beta))\n",
    "    print(\"theta \\t\\t {}\".format(theta))\n",
    "    print(\"p2/p1 \\t\\t {}\".format(pr))\n",
    "    print(\"rho2/rho1 \\t {}\".format(dr))\n",
    "    print(\"t2/t1 \\t\\t {}\".format(tr))\n",
    "    print(\"p02/p01 \\t {}\".format(tpr))\n",
    "    print()"
   ]
  },
  {
   "cell_type": "markdown",
   "metadata": {},
   "source": [
    "### Normal Shock Wave\n",
    "\n",
    "By default, this function can be used to solve **normal shock wave** on air (specific heats ratio $\\gamma=1.4$ and shock wave angle $\\beta=90$):"
   ]
  },
  {
   "cell_type": "code",
   "execution_count": 4,
   "metadata": {},
   "outputs": [
    {
     "name": "stdout",
     "output_type": "stream",
     "text": [
      "M1 \t\t 4.0\n",
      "Mn1 \t\t 4.0\n",
      "M2 \t\t 0.43495883620084\n",
      "Mn2 \t\t 0.43495883620084\n",
      "beta \t\t 90.0\n",
      "theta \t\t 1.2529838033097996e-14\n",
      "p2/p1 \t\t 18.5\n",
      "rho2/rho1 \t 4.571428571428572\n",
      "t2/t1 \t\t 4.046874999999999\n",
      "p02/p01 \t 0.13875622089168838\n",
      "\n"
     ]
    }
   ],
   "source": [
    "result = shockwave_solver(\"m1\", 4)\n",
    "Print_Oblique_Shockwave(*result)"
   ]
  },
  {
   "cell_type": "markdown",
   "metadata": {},
   "source": [
    "Because this function is designed to solve also oblique shock waves, we have some parameters that we can discard:\n",
    "1. Mn1, the normal Mach number upstream of the shock wave, which is obviously equal to M1.\n",
    "2. Mn2, the normal Mach number downstream of the shock wave, which is obviously equal to M2.\n",
    "3. beta, the shock wave angle, obviously $90°$ since we are solving a normal shock wave.\n",
    "4. theta, the deflection angle. We notice a very small value. Indeed, in this case it should be 0, but numerical errors are preventing this result. Anyway, since we are solving a normal shock wave, we do not need to worry about this angle."
   ]
  },
  {
   "cell_type": "markdown",
   "metadata": {},
   "source": [
    "Let's look at the same example, but inserting different parameters. We expect the very same results, and indeed we get them."
   ]
  },
  {
   "cell_type": "code",
   "execution_count": 5,
   "metadata": {},
   "outputs": [
    {
     "name": "stdout",
     "output_type": "stream",
     "text": [
      "M1 \t\t 4.0\n",
      "Mn1 \t\t 4.0\n",
      "M2 \t\t 0.43495883620084\n",
      "Mn2 \t\t 0.43495883620084\n",
      "beta \t\t 90\n",
      "theta \t\t 1.2529838033097996e-14\n",
      "p2/p1 \t\t 18.5\n",
      "rho2/rho1 \t 4.571428571428572\n",
      "t2/t1 \t\t 4.046874999999999\n",
      "p02/p01 \t 0.13875622089168838\n",
      "\n",
      "M1 \t\t 4.0\n",
      "Mn1 \t\t 4.0\n",
      "M2 \t\t 0.43495883620084\n",
      "Mn2 \t\t 0.43495883620084\n",
      "beta \t\t 90\n",
      "theta \t\t 1.2529838033097996e-14\n",
      "p2/p1 \t\t 18.5\n",
      "rho2/rho1 \t 4.571428571428572\n",
      "t2/t1 \t\t 4.046874999999999\n",
      "p02/p01 \t 0.13875622089168838\n",
      "\n",
      "M1 \t\t 4.0\n",
      "Mn1 \t\t 4.0\n",
      "M2 \t\t 0.43495883620084\n",
      "Mn2 \t\t 0.43495883620084\n",
      "beta \t\t 90\n",
      "theta \t\t 1.2529838033097996e-14\n",
      "p2/p1 \t\t 18.5\n",
      "rho2/rho1 \t 4.571428571428572\n",
      "t2/t1 \t\t 4.046874999999999\n",
      "p02/p01 \t 0.13875622089168838\n",
      "\n",
      "M1 \t\t 4.0\n",
      "Mn1 \t\t 4.0\n",
      "M2 \t\t 0.43495883620084\n",
      "Mn2 \t\t 0.43495883620084\n",
      "beta \t\t 90\n",
      "theta \t\t 1.2529838033097996e-14\n",
      "p2/p1 \t\t 18.5\n",
      "rho2/rho1 \t 4.571428571428572\n",
      "t2/t1 \t\t 4.046874999999999\n",
      "p02/p01 \t 0.13875622089168838\n",
      "\n"
     ]
    }
   ],
   "source": [
    "r1 = shockwave_solver(\"pressure\", 18.5)\n",
    "r2 = shockwave_solver(\"density\", 4.571428571428572)\n",
    "r3 = shockwave_solver(\"temperature\", 4.046874999999999)\n",
    "r4 = shockwave_solver(\"mn2\", 0.43495883620084)\n",
    "\n",
    "Print_Oblique_Shockwave(*r1)\n",
    "Print_Oblique_Shockwave(*r2)\n",
    "Print_Oblique_Shockwave(*r3)\n",
    "Print_Oblique_Shockwave(*r4)"
   ]
  },
  {
   "cell_type": "markdown",
   "metadata": {},
   "source": [
    "What if I want to solve a normal shock wave on a gas different than air? Obviously I need to change the specific heats ratio:"
   ]
  },
  {
   "cell_type": "code",
   "execution_count": 6,
   "metadata": {},
   "outputs": [
    {
     "name": "stdout",
     "output_type": "stream",
     "text": [
      "M1 \t\t 4.0\n",
      "Mn1 \t\t 4.0\n",
      "M2 \t\t 0.3689521031926255\n",
      "Mn2 \t\t 0.3689521031926255\n",
      "beta \t\t 90.0\n",
      "theta \t\t 2.024050759192753e-14\n",
      "p2/p1 \t\t 17.36363636363636\n",
      "rho2/rho1 \t 6.769230769230771\n",
      "t2/t1 \t\t 2.5650826446280983\n",
      "p02/p01 \t 0.06095825251291948\n",
      "\n"
     ]
    }
   ],
   "source": [
    "result = shockwave_solver(\"m1\", 4, gamma=1.2)\n",
    "Print_Oblique_Shockwave(*result)"
   ]
  },
  {
   "cell_type": "markdown",
   "metadata": {},
   "source": [
    "### Oblique Shock Wave\n",
    "\n",
    "Let's now consider an **oblique shock wave**. Let's start with air, upstream Mach number $M_{1} = 4$ and a deflection angle $\\theta = 20°$."
   ]
  },
  {
   "cell_type": "code",
   "execution_count": 7,
   "metadata": {},
   "outputs": [
    {
     "name": "stdout",
     "output_type": "stream",
     "text": [
      "M1 \t\t 4.0\n",
      "Mn1 \t\t 2.147072259523833\n",
      "M2 \t\t 2.5686168890322807\n",
      "Mn2 \t\t 0.5543701693902555\n",
      "beta \t\t 32.46389685027039\n",
      "theta \t\t 20.0\n",
      "p2/p1 \t\t 5.211572502219574\n",
      "rho2/rho1 \t 2.8782256018884964\n",
      "t2/t1 \t\t 1.8106893701453053\n",
      "p02/p01 \t 0.6524015014542756\n",
      "\n"
     ]
    }
   ],
   "source": [
    "result = shockwave_solver(\"m1\", 4, 'theta', 20)\n",
    "Print_Oblique_Shockwave(*result)"
   ]
  },
  {
   "cell_type": "markdown",
   "metadata": {},
   "source": [
    "As we have seen from the documentation, if the deflection angle $\\theta$ is provided, by default the function will solve for the _**weak shock solution**_. If we want to solve for the _**strong shock solution**_, we must change the `flag` argument. But in doing so, we also need to specify the specific heats ratio."
   ]
  },
  {
   "cell_type": "code",
   "execution_count": 8,
   "metadata": {},
   "outputs": [
    {
     "name": "stdout",
     "output_type": "stream",
     "text": [
      "M1 \t\t 4.0\n",
      "Mn1 \t\t 3.977010652739413\n",
      "M2 \t\t 0.48523272499938425\n",
      "Mn2 \t\t 0.43558154682352673\n",
      "beta \t\t 83.85418932598304\n",
      "theta \t\t 20.0\n",
      "p2/p1 \t\t 18.286049354003236\n",
      "rho2/rho1 \t 4.5588434129476605\n",
      "t2/t1 \t\t 4.011115912002739\n",
      "p02/p01 \t 0.14147889026890678\n",
      "\n"
     ]
    }
   ],
   "source": [
    "result = shockwave_solver(\"m1\", 4, 'theta', 20, gamma=1.4, flag='strong')\n",
    "Print_Oblique_Shockwave(*result)"
   ]
  },
  {
   "cell_type": "markdown",
   "metadata": {},
   "source": [
    "Note that the solver is able to detect detachment. Let's say we provide a flow deflection angle greater that the maximum allowed for the provided upstream Mach number (see [Oblique Shock Diagram](04_Oblique_Shock_Diagram.ipynb)):"
   ]
  },
  {
   "cell_type": "code",
   "execution_count": 9,
   "metadata": {},
   "outputs": [
    {
     "ename": "ValueError",
     "evalue": "Detachment detected: can't solve the flow when theta > theta_max.\nM1 = [2.]\ntheta_max(M1) = 22.97353176093536\ntheta = [30.]\n",
     "output_type": "error",
     "traceback": [
      "\u001b[0;31m---------------------------------------------------------------------------\u001b[0m",
      "\u001b[0;31mValueError\u001b[0m                                Traceback (most recent call last)",
      "\u001b[0;32m<ipython-input-9-7e015c3a1f36>\u001b[0m in \u001b[0;36m<module>\u001b[0;34m\u001b[0m\n\u001b[0;32m----> 1\u001b[0;31m \u001b[0mresult\u001b[0m \u001b[0;34m=\u001b[0m \u001b[0mshockwave_solver\u001b[0m\u001b[0;34m(\u001b[0m\u001b[0;34m\"m1\"\u001b[0m\u001b[0;34m,\u001b[0m \u001b[0;36m2\u001b[0m\u001b[0;34m,\u001b[0m \u001b[0;34m'theta'\u001b[0m\u001b[0;34m,\u001b[0m \u001b[0;36m30\u001b[0m\u001b[0;34m)\u001b[0m\u001b[0;34m\u001b[0m\u001b[0;34m\u001b[0m\u001b[0m\n\u001b[0m\u001b[1;32m      2\u001b[0m \u001b[0mPrint_Oblique_Shockwave\u001b[0m\u001b[0;34m(\u001b[0m\u001b[0;34m*\u001b[0m\u001b[0mresult\u001b[0m\u001b[0;34m)\u001b[0m\u001b[0;34m\u001b[0m\u001b[0;34m\u001b[0m\u001b[0m\n",
      "\u001b[0;32m~/Documents/Development/Propulsion/pygasflow/pygasflow/utils/decorators.py\u001b[0m in \u001b[0;36mwrapper_function\u001b[0;34m(*args, **kwargs)\u001b[0m\n\u001b[1;32m    204\u001b[0m                 \u001b[0;32mif\u001b[0m \u001b[0mi\u001b[0m \u001b[0;34m<\u001b[0m \u001b[0mlen\u001b[0m\u001b[0;34m(\u001b[0m\u001b[0margs\u001b[0m\u001b[0;34m)\u001b[0m\u001b[0;34m:\u001b[0m\u001b[0;34m\u001b[0m\u001b[0;34m\u001b[0m\u001b[0m\n\u001b[1;32m    205\u001b[0m                     \u001b[0margs\u001b[0m\u001b[0;34m[\u001b[0m\u001b[0mi\u001b[0m\u001b[0;34m]\u001b[0m \u001b[0;34m=\u001b[0m \u001b[0mconvert_to_ndarray\u001b[0m\u001b[0;34m(\u001b[0m\u001b[0margs\u001b[0m\u001b[0;34m[\u001b[0m\u001b[0mi\u001b[0m\u001b[0;34m]\u001b[0m\u001b[0;34m)\u001b[0m\u001b[0;34m\u001b[0m\u001b[0;34m\u001b[0m\u001b[0m\n\u001b[0;32m--> 206\u001b[0;31m             \u001b[0;32mreturn\u001b[0m \u001b[0moriginal_function\u001b[0m\u001b[0;34m(\u001b[0m\u001b[0;34m*\u001b[0m\u001b[0margs\u001b[0m\u001b[0;34m,\u001b[0m \u001b[0;34m**\u001b[0m\u001b[0mkwargs\u001b[0m\u001b[0;34m)\u001b[0m\u001b[0;34m\u001b[0m\u001b[0;34m\u001b[0m\u001b[0m\n\u001b[0m\u001b[1;32m    207\u001b[0m         \u001b[0mwrapper_function\u001b[0m\u001b[0;34m.\u001b[0m\u001b[0m__no_check\u001b[0m \u001b[0;34m=\u001b[0m \u001b[0moriginal_function\u001b[0m\u001b[0;34m\u001b[0m\u001b[0;34m\u001b[0m\u001b[0m\n\u001b[1;32m    208\u001b[0m         \u001b[0;32mreturn\u001b[0m \u001b[0mwrapper_function\u001b[0m\u001b[0;34m\u001b[0m\u001b[0;34m\u001b[0m\u001b[0m\n",
      "\u001b[0;32m~/Documents/Development/Propulsion/pygasflow/pygasflow/utils/decorators.py\u001b[0m in \u001b[0;36mwrapper_function\u001b[0;34m(*args, **kwargs)\u001b[0m\n\u001b[1;32m    119\u001b[0m                 \u001b[0margs\u001b[0m\u001b[0;34m[\u001b[0m\u001b[0;34m-\u001b[0m\u001b[0;36m1\u001b[0m\u001b[0;34m]\u001b[0m \u001b[0;34m=\u001b[0m \u001b[0m_check_flag_shockwave\u001b[0m\u001b[0;34m(\u001b[0m\u001b[0mall_param\u001b[0m\u001b[0;34m[\u001b[0m\u001b[0;34m\"flag\"\u001b[0m\u001b[0;34m]\u001b[0m\u001b[0;34m)\u001b[0m\u001b[0;34m\u001b[0m\u001b[0;34m\u001b[0m\u001b[0m\n\u001b[1;32m    120\u001b[0m \u001b[0;34m\u001b[0m\u001b[0m\n\u001b[0;32m--> 121\u001b[0;31m             \u001b[0mres\u001b[0m \u001b[0;34m=\u001b[0m \u001b[0moriginal_function\u001b[0m\u001b[0;34m(\u001b[0m\u001b[0;34m*\u001b[0m\u001b[0margs\u001b[0m\u001b[0;34m,\u001b[0m \u001b[0;34m**\u001b[0m\u001b[0mkwargs\u001b[0m\u001b[0;34m)\u001b[0m\u001b[0;34m\u001b[0m\u001b[0;34m\u001b[0m\u001b[0m\n\u001b[0m\u001b[1;32m    122\u001b[0m             \u001b[0;32mreturn\u001b[0m \u001b[0mret_correct_vals\u001b[0m\u001b[0;34m(\u001b[0m\u001b[0mres\u001b[0m\u001b[0;34m)\u001b[0m\u001b[0;34m\u001b[0m\u001b[0;34m\u001b[0m\u001b[0m\n\u001b[1;32m    123\u001b[0m \u001b[0;34m\u001b[0m\u001b[0m\n",
      "\u001b[0;32m~/Documents/Development/Propulsion/pygasflow/pygasflow/solvers/shockwave.py\u001b[0m in \u001b[0;36mshockwave_solver\u001b[0;34m(p1_name, p1_value, p2_name, p2_value, gamma, flag)\u001b[0m\n\u001b[1;32m    156\u001b[0m     \u001b[0;32melif\u001b[0m \u001b[0mM1\u001b[0m \u001b[0;32mis\u001b[0m \u001b[0;32mnot\u001b[0m \u001b[0;32mNone\u001b[0m\u001b[0;34m:\u001b[0m\u001b[0;34m\u001b[0m\u001b[0;34m\u001b[0m\u001b[0m\n\u001b[1;32m    157\u001b[0m         \u001b[0;31m# at this point, either beta or theta is set, not both!\u001b[0m\u001b[0;34m\u001b[0m\u001b[0;34m\u001b[0m\u001b[0;34m\u001b[0m\u001b[0m\n\u001b[0;32m--> 158\u001b[0;31m         \u001b[0mMN1\u001b[0m \u001b[0;34m=\u001b[0m \u001b[0mnormal_mach_upstream\u001b[0m\u001b[0;34m.\u001b[0m\u001b[0m__no_check\u001b[0m\u001b[0;34m(\u001b[0m\u001b[0mM1\u001b[0m\u001b[0;34m,\u001b[0m \u001b[0mbeta\u001b[0m\u001b[0;34m,\u001b[0m \u001b[0mtheta\u001b[0m\u001b[0;34m,\u001b[0m \u001b[0mgamma\u001b[0m\u001b[0;34m,\u001b[0m \u001b[0mflag\u001b[0m\u001b[0;34m)\u001b[0m\u001b[0;34m\u001b[0m\u001b[0;34m\u001b[0m\u001b[0m\n\u001b[0m\u001b[1;32m    159\u001b[0m         \u001b[0;31m# compute the different ratios\u001b[0m\u001b[0;34m\u001b[0m\u001b[0;34m\u001b[0m\u001b[0;34m\u001b[0m\u001b[0m\n\u001b[1;32m    160\u001b[0m         \u001b[0mpr\u001b[0m\u001b[0;34m,\u001b[0m \u001b[0mdr\u001b[0m\u001b[0;34m,\u001b[0m \u001b[0mtr\u001b[0m\u001b[0;34m,\u001b[0m \u001b[0mtpr\u001b[0m\u001b[0;34m,\u001b[0m \u001b[0mMN2\u001b[0m \u001b[0;34m=\u001b[0m \u001b[0mget_ratios_from_normal_mach_upstream\u001b[0m\u001b[0;34m.\u001b[0m\u001b[0m__no_check\u001b[0m\u001b[0;34m(\u001b[0m\u001b[0mMN1\u001b[0m\u001b[0;34m,\u001b[0m \u001b[0mgamma\u001b[0m\u001b[0;34m)\u001b[0m\u001b[0;34m\u001b[0m\u001b[0;34m\u001b[0m\u001b[0m\n",
      "\u001b[0;32m~/Documents/Development/Propulsion/pygasflow/pygasflow/utils/decorators.py\u001b[0m in \u001b[0;36mno_check_function\u001b[0;34m(*args, **kwargs)\u001b[0m\n\u001b[1;32m    123\u001b[0m \u001b[0;34m\u001b[0m\u001b[0m\n\u001b[1;32m    124\u001b[0m         \u001b[0;32mdef\u001b[0m \u001b[0mno_check_function\u001b[0m\u001b[0;34m(\u001b[0m\u001b[0;34m*\u001b[0m\u001b[0margs\u001b[0m\u001b[0;34m,\u001b[0m \u001b[0;34m**\u001b[0m\u001b[0mkwargs\u001b[0m\u001b[0;34m)\u001b[0m\u001b[0;34m:\u001b[0m\u001b[0;34m\u001b[0m\u001b[0;34m\u001b[0m\u001b[0m\n\u001b[0;32m--> 125\u001b[0;31m             \u001b[0mres\u001b[0m \u001b[0;34m=\u001b[0m \u001b[0moriginal_function\u001b[0m\u001b[0;34m(\u001b[0m\u001b[0;34m*\u001b[0m\u001b[0margs\u001b[0m\u001b[0;34m,\u001b[0m \u001b[0;34m**\u001b[0m\u001b[0mkwargs\u001b[0m\u001b[0;34m)\u001b[0m\u001b[0;34m\u001b[0m\u001b[0;34m\u001b[0m\u001b[0m\n\u001b[0m\u001b[1;32m    126\u001b[0m             \u001b[0;32mreturn\u001b[0m \u001b[0mret_correct_vals\u001b[0m\u001b[0;34m(\u001b[0m\u001b[0mres\u001b[0m\u001b[0;34m)\u001b[0m\u001b[0;34m\u001b[0m\u001b[0;34m\u001b[0m\u001b[0m\n\u001b[1;32m    127\u001b[0m         \u001b[0mwrapper_function\u001b[0m\u001b[0;34m.\u001b[0m\u001b[0m__no_check\u001b[0m \u001b[0;34m=\u001b[0m \u001b[0mno_check_function\u001b[0m\u001b[0;34m\u001b[0m\u001b[0;34m\u001b[0m\u001b[0m\n",
      "\u001b[0;32m~/Documents/Development/Propulsion/pygasflow/pygasflow/shockwave.py\u001b[0m in \u001b[0;36mnormal_mach_upstream\u001b[0;34m(M1, beta, theta, gamma, flag)\u001b[0m\n\u001b[1;32m    494\u001b[0m             \u001b[0;34m\"M1 = {}\\n\"\u001b[0m\u001b[0;34m.\u001b[0m\u001b[0mformat\u001b[0m\u001b[0;34m(\u001b[0m\u001b[0mM1\u001b[0m\u001b[0;34m)\u001b[0m \u001b[0;34m+\u001b[0m\u001b[0;34m\u001b[0m\u001b[0;34m\u001b[0m\u001b[0m\n\u001b[1;32m    495\u001b[0m             \u001b[0;34m\"theta_max(M1) = {}\\n\"\u001b[0m\u001b[0;34m.\u001b[0m\u001b[0mformat\u001b[0m\u001b[0;34m(\u001b[0m\u001b[0mtheta_max\u001b[0m\u001b[0;34m)\u001b[0m \u001b[0;34m+\u001b[0m\u001b[0;34m\u001b[0m\u001b[0;34m\u001b[0m\u001b[0m\n\u001b[0;32m--> 496\u001b[0;31m             \"theta = {}\\n\".format(theta))\n\u001b[0m\u001b[1;32m    497\u001b[0m         \u001b[0mbeta\u001b[0m \u001b[0;34m=\u001b[0m \u001b[0mbeta_from_mach_theta\u001b[0m\u001b[0;34m(\u001b[0m\u001b[0mM1\u001b[0m\u001b[0;34m,\u001b[0m \u001b[0mtheta\u001b[0m\u001b[0;34m)\u001b[0m\u001b[0;34m\u001b[0m\u001b[0;34m\u001b[0m\u001b[0m\n\u001b[1;32m    498\u001b[0m         \u001b[0mMN1\u001b[0m \u001b[0;34m=\u001b[0m \u001b[0mdict\u001b[0m\u001b[0;34m(\u001b[0m\u001b[0;34m)\u001b[0m\u001b[0;34m\u001b[0m\u001b[0;34m\u001b[0m\u001b[0m\n",
      "\u001b[0;31mValueError\u001b[0m: Detachment detected: can't solve the flow when theta > theta_max.\nM1 = [2.]\ntheta_max(M1) = 22.97353176093536\ntheta = [30.]\n"
     ]
    }
   ],
   "source": [
    "result = shockwave_solver(\"m1\", 2, 'theta', 30)\n",
    "Print_Oblique_Shockwave(*result)"
   ]
  },
  {
   "cell_type": "code",
   "execution_count": 12,
   "metadata": {},
   "outputs": [
    {
     "name": "stdout",
     "output_type": "stream",
     "text": [
      "M1 \t\t 1.8400645259024768\n",
      "Mn1 \t\t 1.664726146515799\n",
      "M2 \t\t 0.9225790066302748\n",
      "Mn2 \t\t 0.64990193322869\n",
      "beta \t\t 64.78435329607117\n",
      "theta \t\t 20.0\n",
      "p2/p1 \t\t 3.066532000042231\n",
      "rho2/rho1 \t 2.1396485447978377\n",
      "t2/t1 \t\t 1.433194254027345\n",
      "p02/p01 \t 0.8701212937216544\n",
      "\n"
     ]
    }
   ],
   "source": [
    "Print_Oblique_Shockwave(*shockwave_solver(\"m1\", 1.8400645259024768, \"theta\", 20))"
   ]
  },
  {
   "cell_type": "markdown",
   "metadata": {},
   "source": [
    "Again, we can insert different parameter to solve for the shock. For example, let's say I know the pressure ratio across the shock, the deflection angle, and I want to solve for the _**weak shock solution**_. I can do:"
   ]
  },
  {
   "cell_type": "code",
   "execution_count": 4,
   "metadata": {},
   "outputs": [
    {
     "name": "stdout",
     "output_type": "stream",
     "text": [
      "M1 \t\t nan\n",
      "Mn1 \t\t 2.147072259523833\n",
      "M2 \t\t nan\n",
      "Mn2 \t\t 0.5543701693902555\n",
      "beta \t\t nan\n",
      "theta \t\t 20.0\n",
      "p2/p1 \t\t 5.211572502219574\n",
      "rho2/rho1 \t 2.8782256018884964\n",
      "t2/t1 \t\t 1.8106893701453053\n",
      "p02/p01 \t 0.6524015014542756\n",
      "\n"
     ]
    },
    {
     "name": "stderr",
     "output_type": "stream",
     "text": [
      "/home/davide/Documents/Development/Propulsion/pygasflow/pygasflow/solvers/shockwave.py:189: UserWarning: Undetermined case. Setting M1 = beta = M2 = NaN\n",
      "  warnings.warn(\"Undetermined case. Setting M1 = beta = M2 = NaN\")\n"
     ]
    }
   ],
   "source": [
    "result = shockwave_solver(\"pressure\", 5.211572502219574, 'theta', 20)\n",
    "Print_Oblique_Shockwave(*result)"
   ]
  },
  {
   "cell_type": "markdown",
   "metadata": {},
   "source": [
    "Comparing with the previous results, we see that the ratios are correct, the normal Mach numbers are correct, but the shock wave angle $\\beta$ and thus the Mach numbers upstream and downstream of the shock are not determined.\n",
    "This is to be expected: given a ratio, we can compute only the normal Mach number across the shock wave corresponsing to the weak solution, but we are unable to uniquely determine the shock wave angle $\\beta$ and the Mach number."
   ]
  },
  {
   "cell_type": "markdown",
   "metadata": {},
   "source": [
    "Therefore, **if we would like to compute the _strong shock solution_ giving a ratio and the deflection angle $\\theta$, we will get the wrong results**:"
   ]
  },
  {
   "cell_type": "code",
   "execution_count": 9,
   "metadata": {},
   "outputs": [
    {
     "name": "stdout",
     "output_type": "stream",
     "text": [
      "M1 \t\t nan\n",
      "Mn1 \t\t 2.147072259523833\n",
      "M2 \t\t nan\n",
      "Mn2 \t\t 0.5543701693902555\n",
      "beta \t\t nan\n",
      "theta \t\t 20\n",
      "p2/p1 \t\t 5.211572502219574\n",
      "rho2/rho1 \t 2.8782256018884964\n",
      "t2/t1 \t\t 1.8106893701453053\n",
      "p02/p01 \t 0.6524015014542756\n",
      "\n"
     ]
    }
   ],
   "source": [
    "result = shockwave_solver(\"pressure\", 5.211572502219574, 'theta', 20, gamma=1.4, flag='strong')\n",
    "Print_Oblique_Shockwave(*result)"
   ]
  },
  {
   "cell_type": "markdown",
   "metadata": {},
   "source": [
    "Even by specify the `flag='strong'`, at the moment of writing this tutorial, it is not possible to compute the Normal Mach number corresponding to strong solution of the input ration, and it is not possible to uniquely determine the shock wave angle $\\beta$ and thus computing the correct results."
   ]
  },
  {
   "cell_type": "markdown",
   "metadata": {},
   "source": [
    "We can solve a shock wave by knowing both the shock wave angle $\\beta$ and the deflection angle $\\theta$. Following the previus example, by chosing the shock wave angle corresponding to the weak solution we get:"
   ]
  },
  {
   "cell_type": "code",
   "execution_count": 10,
   "metadata": {},
   "outputs": [
    {
     "name": "stdout",
     "output_type": "stream",
     "text": [
      "M1 \t\t 4.000000000000003\n",
      "Mn1 \t\t 2.1470722595238345\n",
      "M2 \t\t 2.5686168890322807\n",
      "Mn2 \t\t 0.5543701693902553\n",
      "beta \t\t 32.46389685027039\n",
      "theta \t\t 20.000000000000004\n",
      "p2/p1 \t\t 5.211572502219582\n",
      "rho2/rho1 \t 2.8782256018884977\n",
      "t2/t1 \t\t 1.8106893701453068\n",
      "p02/p01 \t 0.6524015014542744\n",
      "\n",
      "\n",
      "M1 \t\t 4.000000000000003\n",
      "Mn1 \t\t 2.1470722595238345\n",
      "M2 \t\t 2.5686168890322807\n",
      "Mn2 \t\t 0.5543701693902553\n",
      "beta \t\t 32.46389685027039\n",
      "theta \t\t 20.000000000000004\n",
      "p2/p1 \t\t 5.211572502219582\n",
      "rho2/rho1 \t 2.8782256018884977\n",
      "t2/t1 \t\t 1.8106893701453068\n",
      "p02/p01 \t 0.6524015014542744\n",
      "\n"
     ]
    }
   ],
   "source": [
    "r1 = shockwave_solver(\"beta\", 32.46389685027039, 'theta', 20)\n",
    "r2 = shockwave_solver('theta', 20, \"beta\", 32.46389685027039)\n",
    "Print_Oblique_Shockwave(*r1)\n",
    "print()\n",
    "Print_Oblique_Shockwave(*r2)"
   ]
  },
  {
   "cell_type": "markdown",
   "metadata": {},
   "source": [
    "Note that we do not need to specify the `flag` arguments, since for each $(\\beta, \\theta)$ corresponds only one Mach number.\n",
    "\n",
    "By chosing the shock wave angle corresponding to the strong solution we get:"
   ]
  },
  {
   "cell_type": "code",
   "execution_count": 11,
   "metadata": {},
   "outputs": [
    {
     "name": "stdout",
     "output_type": "stream",
     "text": [
      "M1 \t\t 3.9999999999999862\n",
      "Mn1 \t\t 3.9770106527393994\n",
      "M2 \t\t 0.48523272499938463\n",
      "Mn2 \t\t 0.4355815468235271\n",
      "beta \t\t 83.85418932598304\n",
      "theta \t\t 19.99999999999999\n",
      "p2/p1 \t\t 18.286049354003108\n",
      "rho2/rho1 \t 4.558843412947653\n",
      "t2/t1 \t\t 4.011115912002717\n",
      "p02/p01 \t 0.14147889026890847\n",
      "\n",
      "M1 \t\t 3.9999999999999862\n",
      "Mn1 \t\t 3.9770106527393994\n",
      "M2 \t\t 0.48523272499938463\n",
      "Mn2 \t\t 0.4355815468235271\n",
      "beta \t\t 83.85418932598304\n",
      "theta \t\t 19.99999999999999\n",
      "p2/p1 \t\t 18.286049354003108\n",
      "rho2/rho1 \t 4.558843412947653\n",
      "t2/t1 \t\t 4.011115912002717\n",
      "p02/p01 \t 0.14147889026890847\n",
      "\n"
     ]
    }
   ],
   "source": [
    "r1 = shockwave_solver(\"beta\", 83.85418932598304, 'theta', 20)\n",
    "r2 = shockwave_solver('theta', 20, \"beta\", 83.85418932598304)\n",
    "Print_Oblique_Shockwave(*r1)\n",
    "Print_Oblique_Shockwave(*r2)"
   ]
  },
  {
   "cell_type": "markdown",
   "metadata": {},
   "source": [
    "Finally, the solver should be able to determine if a solution doesn't exist for the current choice of parameters. For example (see [Oblique Shock Diagram](04_Oblique_Shock_Diagram.ipynb)):"
   ]
  },
  {
   "cell_type": "code",
   "execution_count": 3,
   "metadata": {},
   "outputs": [
    {
     "ename": "ValueError",
     "evalue": "There is no solution for the current choice of parameters. Please check the Oblique Shock diagram with the following parameters:\nbeta = [88.]\ntheta = [20.]\n",
     "output_type": "error",
     "traceback": [
      "\u001b[0;31m---------------------------------------------------------------------------\u001b[0m",
      "\u001b[0;31mValueError\u001b[0m                                Traceback (most recent call last)",
      "\u001b[0;32m<ipython-input-3-b1ec25611fb1>\u001b[0m in \u001b[0;36m<module>\u001b[0;34m\u001b[0m\n\u001b[0;32m----> 1\u001b[0;31m \u001b[0mPrint_Oblique_Shockwave\u001b[0m\u001b[0;34m(\u001b[0m\u001b[0;34m*\u001b[0m\u001b[0mshockwave_solver\u001b[0m\u001b[0;34m(\u001b[0m\u001b[0;34m\"beta\"\u001b[0m\u001b[0;34m,\u001b[0m \u001b[0;36m88\u001b[0m\u001b[0;34m,\u001b[0m \u001b[0;34m\"theta\"\u001b[0m\u001b[0;34m,\u001b[0m \u001b[0;36m20\u001b[0m\u001b[0;34m)\u001b[0m\u001b[0;34m)\u001b[0m\u001b[0;34m\u001b[0m\u001b[0;34m\u001b[0m\u001b[0m\n\u001b[0m",
      "\u001b[0;32m~/Documents/Development/Propulsion/pygasflow/pygasflow/utils/decorators.py\u001b[0m in \u001b[0;36mwrapper_function\u001b[0;34m(*args, **kwargs)\u001b[0m\n\u001b[1;32m    204\u001b[0m                 \u001b[0;32mif\u001b[0m \u001b[0mi\u001b[0m \u001b[0;34m<\u001b[0m \u001b[0mlen\u001b[0m\u001b[0;34m(\u001b[0m\u001b[0margs\u001b[0m\u001b[0;34m)\u001b[0m\u001b[0;34m:\u001b[0m\u001b[0;34m\u001b[0m\u001b[0;34m\u001b[0m\u001b[0m\n\u001b[1;32m    205\u001b[0m                     \u001b[0margs\u001b[0m\u001b[0;34m[\u001b[0m\u001b[0mi\u001b[0m\u001b[0;34m]\u001b[0m \u001b[0;34m=\u001b[0m \u001b[0mconvert_to_ndarray\u001b[0m\u001b[0;34m(\u001b[0m\u001b[0margs\u001b[0m\u001b[0;34m[\u001b[0m\u001b[0mi\u001b[0m\u001b[0;34m]\u001b[0m\u001b[0;34m)\u001b[0m\u001b[0;34m\u001b[0m\u001b[0;34m\u001b[0m\u001b[0m\n\u001b[0;32m--> 206\u001b[0;31m             \u001b[0;32mreturn\u001b[0m \u001b[0moriginal_function\u001b[0m\u001b[0;34m(\u001b[0m\u001b[0;34m*\u001b[0m\u001b[0margs\u001b[0m\u001b[0;34m,\u001b[0m \u001b[0;34m**\u001b[0m\u001b[0mkwargs\u001b[0m\u001b[0;34m)\u001b[0m\u001b[0;34m\u001b[0m\u001b[0;34m\u001b[0m\u001b[0m\n\u001b[0m\u001b[1;32m    207\u001b[0m         \u001b[0mwrapper_function\u001b[0m\u001b[0;34m.\u001b[0m\u001b[0m__no_check\u001b[0m \u001b[0;34m=\u001b[0m \u001b[0moriginal_function\u001b[0m\u001b[0;34m\u001b[0m\u001b[0;34m\u001b[0m\u001b[0m\n\u001b[1;32m    208\u001b[0m         \u001b[0;32mreturn\u001b[0m \u001b[0mwrapper_function\u001b[0m\u001b[0;34m\u001b[0m\u001b[0;34m\u001b[0m\u001b[0m\n",
      "\u001b[0;32m~/Documents/Development/Propulsion/pygasflow/pygasflow/utils/decorators.py\u001b[0m in \u001b[0;36mwrapper_function\u001b[0;34m(*args, **kwargs)\u001b[0m\n\u001b[1;32m    119\u001b[0m                 \u001b[0margs\u001b[0m\u001b[0;34m[\u001b[0m\u001b[0;34m-\u001b[0m\u001b[0;36m1\u001b[0m\u001b[0;34m]\u001b[0m \u001b[0;34m=\u001b[0m \u001b[0m_check_flag_shockwave\u001b[0m\u001b[0;34m(\u001b[0m\u001b[0mall_param\u001b[0m\u001b[0;34m[\u001b[0m\u001b[0;34m\"flag\"\u001b[0m\u001b[0;34m]\u001b[0m\u001b[0;34m)\u001b[0m\u001b[0;34m\u001b[0m\u001b[0;34m\u001b[0m\u001b[0m\n\u001b[1;32m    120\u001b[0m \u001b[0;34m\u001b[0m\u001b[0m\n\u001b[0;32m--> 121\u001b[0;31m             \u001b[0mres\u001b[0m \u001b[0;34m=\u001b[0m \u001b[0moriginal_function\u001b[0m\u001b[0;34m(\u001b[0m\u001b[0;34m*\u001b[0m\u001b[0margs\u001b[0m\u001b[0;34m,\u001b[0m \u001b[0;34m**\u001b[0m\u001b[0mkwargs\u001b[0m\u001b[0;34m)\u001b[0m\u001b[0;34m\u001b[0m\u001b[0;34m\u001b[0m\u001b[0m\n\u001b[0m\u001b[1;32m    122\u001b[0m             \u001b[0;32mreturn\u001b[0m \u001b[0mret_correct_vals\u001b[0m\u001b[0;34m(\u001b[0m\u001b[0mres\u001b[0m\u001b[0;34m)\u001b[0m\u001b[0;34m\u001b[0m\u001b[0;34m\u001b[0m\u001b[0m\n\u001b[1;32m    123\u001b[0m \u001b[0;34m\u001b[0m\u001b[0m\n",
      "\u001b[0;32m~/Documents/Development/Propulsion/pygasflow/pygasflow/solvers/shockwave.py\u001b[0m in \u001b[0;36mshockwave_solver\u001b[0;34m(p1_name, p1_value, p2_name, p2_value, gamma, flag)\u001b[0m\n\u001b[1;32m    143\u001b[0m         \u001b[0;32mif\u001b[0m \u001b[0;32mnot\u001b[0m \u001b[0misinstance\u001b[0m\u001b[0;34m(\u001b[0m\u001b[0mtheta\u001b[0m\u001b[0;34m,\u001b[0m \u001b[0mnp\u001b[0m\u001b[0;34m.\u001b[0m\u001b[0mndarray\u001b[0m\u001b[0;34m)\u001b[0m\u001b[0;34m:\u001b[0m\u001b[0;34m\u001b[0m\u001b[0;34m\u001b[0m\u001b[0m\n\u001b[1;32m    144\u001b[0m             \u001b[0mtheta\u001b[0m \u001b[0;34m=\u001b[0m \u001b[0mtheta\u001b[0m \u001b[0;34m*\u001b[0m \u001b[0mnp\u001b[0m\u001b[0;34m.\u001b[0m\u001b[0mones_like\u001b[0m\u001b[0;34m(\u001b[0m\u001b[0mbeta\u001b[0m\u001b[0;34m)\u001b[0m\u001b[0;34m\u001b[0m\u001b[0;34m\u001b[0m\u001b[0m\n\u001b[0;32m--> 145\u001b[0;31m         \u001b[0mM1\u001b[0m \u001b[0;34m=\u001b[0m \u001b[0mmach_from_theta_beta\u001b[0m\u001b[0;34m.\u001b[0m\u001b[0m__no_check\u001b[0m\u001b[0;34m(\u001b[0m\u001b[0mtheta\u001b[0m\u001b[0;34m,\u001b[0m \u001b[0mbeta\u001b[0m\u001b[0;34m)\u001b[0m\u001b[0;34m\u001b[0m\u001b[0;34m\u001b[0m\u001b[0m\n\u001b[0m\u001b[1;32m    146\u001b[0m     \u001b[0;32melse\u001b[0m\u001b[0;34m:\u001b[0m   \u001b[0;31m# 'm2'\u001b[0m\u001b[0;34m\u001b[0m\u001b[0;34m\u001b[0m\u001b[0m\n\u001b[1;32m    147\u001b[0m         \u001b[0;31m# TODO:\u001b[0m\u001b[0;34m\u001b[0m\u001b[0;34m\u001b[0m\u001b[0;34m\u001b[0m\u001b[0m\n",
      "\u001b[0;32m~/Documents/Development/Propulsion/pygasflow/pygasflow/utils/decorators.py\u001b[0m in \u001b[0;36mno_check_function\u001b[0;34m(*args, **kwargs)\u001b[0m\n\u001b[1;32m    123\u001b[0m \u001b[0;34m\u001b[0m\u001b[0m\n\u001b[1;32m    124\u001b[0m         \u001b[0;32mdef\u001b[0m \u001b[0mno_check_function\u001b[0m\u001b[0;34m(\u001b[0m\u001b[0;34m*\u001b[0m\u001b[0margs\u001b[0m\u001b[0;34m,\u001b[0m \u001b[0;34m**\u001b[0m\u001b[0mkwargs\u001b[0m\u001b[0;34m)\u001b[0m\u001b[0;34m:\u001b[0m\u001b[0;34m\u001b[0m\u001b[0;34m\u001b[0m\u001b[0m\n\u001b[0;32m--> 125\u001b[0;31m             \u001b[0mres\u001b[0m \u001b[0;34m=\u001b[0m \u001b[0moriginal_function\u001b[0m\u001b[0;34m(\u001b[0m\u001b[0;34m*\u001b[0m\u001b[0margs\u001b[0m\u001b[0;34m,\u001b[0m \u001b[0;34m**\u001b[0m\u001b[0mkwargs\u001b[0m\u001b[0;34m)\u001b[0m\u001b[0;34m\u001b[0m\u001b[0;34m\u001b[0m\u001b[0m\n\u001b[0m\u001b[1;32m    126\u001b[0m             \u001b[0;32mreturn\u001b[0m \u001b[0mret_correct_vals\u001b[0m\u001b[0;34m(\u001b[0m\u001b[0mres\u001b[0m\u001b[0;34m)\u001b[0m\u001b[0;34m\u001b[0m\u001b[0;34m\u001b[0m\u001b[0m\n\u001b[1;32m    127\u001b[0m         \u001b[0mwrapper_function\u001b[0m\u001b[0;34m.\u001b[0m\u001b[0m__no_check\u001b[0m \u001b[0;34m=\u001b[0m \u001b[0mno_check_function\u001b[0m\u001b[0;34m\u001b[0m\u001b[0;34m\u001b[0m\u001b[0m\n",
      "\u001b[0;32m~/Documents/Development/Propulsion/pygasflow/pygasflow/shockwave.py\u001b[0m in \u001b[0;36mmach_from_theta_beta\u001b[0;34m(theta, beta, gamma)\u001b[0m\n\u001b[1;32m    793\u001b[0m         \u001b[0;34m\" parameters:\\n\"\u001b[0m \u001b[0;34m+\u001b[0m\u001b[0;34m\u001b[0m\u001b[0;34m\u001b[0m\u001b[0m\n\u001b[1;32m    794\u001b[0m         \u001b[0;34m\"beta = {}\\n\"\u001b[0m\u001b[0;34m.\u001b[0m\u001b[0mformat\u001b[0m\u001b[0;34m(\u001b[0m\u001b[0mbeta\u001b[0m\u001b[0;34m)\u001b[0m \u001b[0;34m+\u001b[0m\u001b[0;34m\u001b[0m\u001b[0;34m\u001b[0m\u001b[0m\n\u001b[0;32m--> 795\u001b[0;31m         \"theta = {}\\n\".format(theta))\n\u001b[0m\u001b[1;32m    796\u001b[0m     \u001b[0;31m# case beta == 90 and theta == 0, which leaves M to be indeterminate, NaN\u001b[0m\u001b[0;34m\u001b[0m\u001b[0;34m\u001b[0m\u001b[0;34m\u001b[0m\u001b[0m\n\u001b[1;32m    797\u001b[0m     \u001b[0midx0\u001b[0m \u001b[0;34m=\u001b[0m \u001b[0mnp\u001b[0m\u001b[0;34m.\u001b[0m\u001b[0mbitwise_and\u001b[0m\u001b[0;34m(\u001b[0m\u001b[0mbeta\u001b[0m \u001b[0;34m==\u001b[0m \u001b[0;36m90\u001b[0m\u001b[0;34m,\u001b[0m \u001b[0mtheta\u001b[0m \u001b[0;34m==\u001b[0m \u001b[0;36m0\u001b[0m\u001b[0;34m)\u001b[0m\u001b[0;34m\u001b[0m\u001b[0;34m\u001b[0m\u001b[0m\n",
      "\u001b[0;31mValueError\u001b[0m: There is no solution for the current choice of parameters. Please check the Oblique Shock diagram with the following parameters:\nbeta = [88.]\ntheta = [20.]\n"
     ]
    }
   ],
   "source": [
    "Print_Oblique_Shockwave(*shockwave_solver(\"beta\", 88, \"theta\", 20))"
   ]
  },
  {
   "cell_type": "markdown",
   "metadata": {},
   "source": [
    "## `conical_shockwave_solver`\n",
    "\n",
    "Let's look at the documentation for this function to see how it works:"
   ]
  },
  {
   "cell_type": "code",
   "execution_count": 12,
   "metadata": {},
   "outputs": [
    {
     "name": "stdout",
     "output_type": "stream",
     "text": [
      "Help on function conical_shockwave_solver in module pygasflow.solvers.shockwave:\n",
      "\n",
      "conical_shockwave_solver(M1, param_name, param_value, gamma=1.5, step=0.025)\n",
      "    Try to compute all the ratios, angles and mach numbers across the conical shock wave.\n",
      "    \n",
      "    Parameters\n",
      "    ----------\n",
      "        M1 : float\n",
      "            Upstream Mach number. Must be M1 > 1.\n",
      "        param_name : string\n",
      "            Name of the parameter given in input. Can be either one of:\n",
      "                ['mc', 'theta_c', 'beta']\n",
      "                'mc': Mach number at the cone's surface.\n",
      "                'theta_c': Half cone angle.\n",
      "                'beta': shock wave angle.\n",
      "        param_value : float\n",
      "            Actual value of the parameter. Requirements:\n",
      "                Mc >= 0\n",
      "                0 < beta <= 90\n",
      "                0 < theta_c < 90\n",
      "        gamma : float\n",
      "            Specific heats ratio. Default to 1.4. Must be > 1.\n",
      "        step : float\n",
      "            Angle-increment used on the shock wave angle iteration. Default to 0.025 deg.\n",
      "    \n",
      "    Returns\n",
      "    -------\n",
      "        M : float\n",
      "            Upstream Mach number.\n",
      "        Mc : float\n",
      "            Mach number at the surface of the cone.\n",
      "        theta_c : float\n",
      "            Half cone angle.\n",
      "        beta : float\n",
      "            Shock wave angle.\n",
      "        delta : float\n",
      "            Flow deflection angle.\n",
      "        pr : float\n",
      "            Pressure ratio across the shock wave.\n",
      "        dr : float\n",
      "            Density ratio across the shock wave.\n",
      "        tr : float\n",
      "            Temperature ratio across the shock wave.\n",
      "        tpr : float\n",
      "            Total Pressure ratio across the shock wave.\n",
      "        pc_p1 : float\n",
      "            Pressure ratio between the cone's surface and the upstream condition.\n",
      "        rhoc_rho1 : float\n",
      "            Density ratio between the cone's surface and the upstream condition.\n",
      "        Tc_T1 : float\n",
      "            Temperature ratio between the cone's surface and the upstream condition.\n",
      "\n"
     ]
    }
   ],
   "source": [
    "help(conical_shockwave_solver)"
   ]
  },
  {
   "cell_type": "code",
   "execution_count": 2,
   "metadata": {},
   "outputs": [],
   "source": [
    "def Print_Conical_Shockwave(M1, Mc, theta_c, beta, delta, pr, dr, tr, tpr, pc_p1, rhoc_rho1, Tc_T1):\n",
    "    print(\"M1 \\t\\t {}\".format(M1))\n",
    "    print(\"Mc \\t\\t {}\".format(Mc))\n",
    "    print(\"theta_c \\t {}\".format(theta_c))\n",
    "    print(\"beta \\t\\t {}\".format(beta))\n",
    "    print(\"delta \\t\\t {}\".format(delta))\n",
    "    print(\"p2/p1 \\t\\t {}\".format(pr))\n",
    "    print(\"rho2/rho1 \\t {}\".format(dr))\n",
    "    print(\"t2/t1 \\t\\t {}\".format(tr))\n",
    "    print(\"p02/p01 \\t {}\".format(tpr))\n",
    "    print(\"pc/p1 \\t\\t {}\".format(pc_p1))\n",
    "    print(\"rho_c/rho1 \\t {}\".format(rhoc_rho1))\n",
    "    print(\"tc/t1 \\t\\t {}\".format(Tc_T1))"
   ]
  },
  {
   "cell_type": "code",
   "execution_count": 3,
   "metadata": {},
   "outputs": [
    {
     "name": "stdout",
     "output_type": "stream",
     "text": [
      "M1 \t\t 4.0\n",
      "Mc \t\t 3.3494441585129917\n",
      "theta_c \t 12.923342940926778\n",
      "beta \t\t 20\n",
      "delta \t\t 7.444220294251439\n",
      "p2/p1 \t\t 2.0169185308895377\n",
      "rho2/rho1 \t 1.6342327959123613\n",
      "t2/t1 \t\t 1.2341684342245318\n",
      "p02/p01 \t 0.965779172840477\n",
      "pc/p1 \t\t 2.385514639007803\n",
      "rho_c/rho1 \t 1.8423870467954182\n",
      "tc/t1 \t\t 1.2947955985454198\n"
     ]
    }
   ],
   "source": [
    "result = conical_shockwave_solver(4, 'beta', 20)\n",
    "Print_Conical_Shockwave(*result)"
   ]
  },
  {
   "cell_type": "code",
   "execution_count": 8,
   "metadata": {},
   "outputs": [
    {
     "name": "stdout",
     "output_type": "stream",
     "text": [
      "M1 \t\t 3.0\n",
      "Mc \t\t 2.000000000000039\n",
      "theta_c \t 26.377485151514648\n",
      "beta \t\t 35.90847523748602\n",
      "delta \t\t 18.392639366690542\n",
      "p2/p1 \t\t 3.44505054944179\n",
      "rho2/rho1 \t 2.294355459847854\n",
      "t2/t1 \t\t 1.5015330491423686\n",
      "p02/p01 \t 0.8304690737856829\n",
      "pc/p1 \t\t 3.898726823356718\n",
      "rho_c/rho1 \t 2.506324386443648\n",
      "tc/t1 \t\t 1.5555555555555283\n"
     ]
    }
   ],
   "source": [
    "result = conical_shockwave_solver(3, 'theta_c', 26.377485151514648)\n",
    "Print_Conical_Shockwave(*result)"
   ]
  },
  {
   "cell_type": "code",
   "execution_count": 4,
   "metadata": {},
   "outputs": [
    {
     "name": "stdout",
     "output_type": "stream",
     "text": [
      "M1 \t\t 3.0\n",
      "Mc \t\t 2.0\n",
      "theta_c \t 26.377485151514648\n",
      "beta \t\t 35.90847523748602\n",
      "delta \t\t 18.392639366690542\n",
      "p2/p1 \t\t 3.44505054944179\n",
      "rho2/rho1 \t 2.294355459847854\n",
      "t2/t1 \t\t 1.5015330491423686\n",
      "p02/p01 \t 0.8304690737856829\n",
      "pc/p1 \t\t 3.8987268233569545\n",
      "rho_c/rho1 \t 2.5063243864437568\n",
      "tc/t1 \t\t 1.5555555555555554\n"
     ]
    }
   ],
   "source": [
    "result = conical_shockwave_solver(3, 'mc', 2)\n",
    "Print_Conical_Shockwave(*result)"
   ]
  },
  {
   "cell_type": "code",
   "execution_count": 5,
   "metadata": {},
   "outputs": [
    {
     "name": "stdout",
     "output_type": "stream",
     "text": [
      "M1 \t\t 3.0\n",
      "Mc \t\t 2.000000000000039\n",
      "theta_c \t 26.377485151514648\n",
      "beta \t\t 35.90847523748602\n",
      "delta \t\t 18.392639366690542\n",
      "p2/p1 \t\t 3.44505054944179\n",
      "rho2/rho1 \t 2.294355459847854\n",
      "t2/t1 \t\t 1.5015330491423686\n",
      "p02/p01 \t 0.8304690737856829\n",
      "pc/p1 \t\t 3.898726823356718\n",
      "rho_c/rho1 \t 2.506324386443648\n",
      "tc/t1 \t\t 1.5555555555555283\n"
     ]
    }
   ],
   "source": [
    "result = conical_shockwave_solver(3, 'beta', 35.90847523748602)\n",
    "Print_Conical_Shockwave(*result)"
   ]
  },
  {
   "cell_type": "markdown",
   "metadata": {},
   "source": [
    "The solver should be able to detect detachment:"
   ]
  },
  {
   "cell_type": "code",
   "execution_count": 3,
   "metadata": {},
   "outputs": [
    {
     "name": "stdout",
     "output_type": "stream",
     "text": [
      "2.0 52.91796067736699 19.74849851112601\n",
      "2.0 67.08203932263301 22.8056781716114\n",
      "2.0 75.83592134473398 18.859479373608636\n",
      "2.0 68.14003843845266 22.620293312318925\n",
      "2.0 69.12264301881609 22.38279178854531\n",
      "2.0 69.47586990007726 22.281485909025463\n",
      "2.0 69.42067470836524 22.297881685277112\n",
      "2.0 69.41633273728553 22.299162543329587\n",
      "2.0 69.41660346662987 22.299082717666924\n",
      "2.0 69.41659910368192 22.29908400414021\n",
      "2.0 69.41659474073403 22.29908529061215\n",
      "2.0 69.41659910368192 22.29908400414021\n"
     ]
    },
    {
     "ename": "ValueError",
     "evalue": "Detachment detected: can't solve the flow when theta_c > theta_c_max.\nM1 = [2.]\ntheta_c_max(M1) = 40.688476890932144\ntheta_c = 45\n",
     "output_type": "error",
     "traceback": [
      "\u001b[0;31m---------------------------------------------------------------------------\u001b[0m",
      "\u001b[0;31mValueError\u001b[0m                                Traceback (most recent call last)",
      "\u001b[0;32m<ipython-input-3-d57b7c5c7a84>\u001b[0m in \u001b[0;36m<module>\u001b[0;34m\u001b[0m\n\u001b[0;32m----> 1\u001b[0;31m \u001b[0mresult\u001b[0m \u001b[0;34m=\u001b[0m \u001b[0mconical_shockwave_solver\u001b[0m\u001b[0;34m(\u001b[0m\u001b[0;36m2\u001b[0m\u001b[0;34m,\u001b[0m \u001b[0;34m'theta_c'\u001b[0m\u001b[0;34m,\u001b[0m \u001b[0;36m45\u001b[0m\u001b[0;34m)\u001b[0m\u001b[0;34m\u001b[0m\u001b[0;34m\u001b[0m\u001b[0m\n\u001b[0m\u001b[1;32m      2\u001b[0m \u001b[0mPrint_Conical_Shockwave\u001b[0m\u001b[0;34m(\u001b[0m\u001b[0;34m*\u001b[0m\u001b[0mresult\u001b[0m\u001b[0;34m)\u001b[0m\u001b[0;34m\u001b[0m\u001b[0;34m\u001b[0m\u001b[0m\n",
      "\u001b[0;32m~/Documents/Development/Propulsion/pygasflow/pygasflow/utils/decorators.py\u001b[0m in \u001b[0;36mwrapper_function\u001b[0;34m(*args, **kwargs)\u001b[0m\n\u001b[1;32m    204\u001b[0m                 \u001b[0;32mif\u001b[0m \u001b[0mi\u001b[0m \u001b[0;34m<\u001b[0m \u001b[0mlen\u001b[0m\u001b[0;34m(\u001b[0m\u001b[0margs\u001b[0m\u001b[0;34m)\u001b[0m\u001b[0;34m:\u001b[0m\u001b[0;34m\u001b[0m\u001b[0;34m\u001b[0m\u001b[0m\n\u001b[1;32m    205\u001b[0m                     \u001b[0margs\u001b[0m\u001b[0;34m[\u001b[0m\u001b[0mi\u001b[0m\u001b[0;34m]\u001b[0m \u001b[0;34m=\u001b[0m \u001b[0mconvert_to_ndarray\u001b[0m\u001b[0;34m(\u001b[0m\u001b[0margs\u001b[0m\u001b[0;34m[\u001b[0m\u001b[0mi\u001b[0m\u001b[0;34m]\u001b[0m\u001b[0;34m)\u001b[0m\u001b[0;34m\u001b[0m\u001b[0;34m\u001b[0m\u001b[0m\n\u001b[0;32m--> 206\u001b[0;31m             \u001b[0;32mreturn\u001b[0m \u001b[0moriginal_function\u001b[0m\u001b[0;34m(\u001b[0m\u001b[0;34m*\u001b[0m\u001b[0margs\u001b[0m\u001b[0;34m,\u001b[0m \u001b[0;34m**\u001b[0m\u001b[0mkwargs\u001b[0m\u001b[0;34m)\u001b[0m\u001b[0;34m\u001b[0m\u001b[0;34m\u001b[0m\u001b[0m\n\u001b[0m\u001b[1;32m    207\u001b[0m         \u001b[0mwrapper_function\u001b[0m\u001b[0;34m.\u001b[0m\u001b[0m__no_check\u001b[0m \u001b[0;34m=\u001b[0m \u001b[0moriginal_function\u001b[0m\u001b[0;34m\u001b[0m\u001b[0;34m\u001b[0m\u001b[0m\n\u001b[1;32m    208\u001b[0m         \u001b[0;32mreturn\u001b[0m \u001b[0mwrapper_function\u001b[0m\u001b[0;34m\u001b[0m\u001b[0;34m\u001b[0m\u001b[0m\n",
      "\u001b[0;32m~/Documents/Development/Propulsion/pygasflow/pygasflow/utils/decorators.py\u001b[0m in \u001b[0;36mwrapper_function\u001b[0;34m(*args, **kwargs)\u001b[0m\n\u001b[1;32m    119\u001b[0m                 \u001b[0margs\u001b[0m\u001b[0;34m[\u001b[0m\u001b[0;34m-\u001b[0m\u001b[0;36m1\u001b[0m\u001b[0;34m]\u001b[0m \u001b[0;34m=\u001b[0m \u001b[0m_check_flag_shockwave\u001b[0m\u001b[0;34m(\u001b[0m\u001b[0mall_param\u001b[0m\u001b[0;34m[\u001b[0m\u001b[0;34m\"flag\"\u001b[0m\u001b[0;34m]\u001b[0m\u001b[0;34m)\u001b[0m\u001b[0;34m\u001b[0m\u001b[0;34m\u001b[0m\u001b[0m\n\u001b[1;32m    120\u001b[0m \u001b[0;34m\u001b[0m\u001b[0m\n\u001b[0;32m--> 121\u001b[0;31m             \u001b[0mres\u001b[0m \u001b[0;34m=\u001b[0m \u001b[0moriginal_function\u001b[0m\u001b[0;34m(\u001b[0m\u001b[0;34m*\u001b[0m\u001b[0margs\u001b[0m\u001b[0;34m,\u001b[0m \u001b[0;34m**\u001b[0m\u001b[0mkwargs\u001b[0m\u001b[0;34m)\u001b[0m\u001b[0;34m\u001b[0m\u001b[0;34m\u001b[0m\u001b[0m\n\u001b[0m\u001b[1;32m    122\u001b[0m             \u001b[0;32mreturn\u001b[0m \u001b[0mret_correct_vals\u001b[0m\u001b[0;34m(\u001b[0m\u001b[0mres\u001b[0m\u001b[0;34m)\u001b[0m\u001b[0;34m\u001b[0m\u001b[0;34m\u001b[0m\u001b[0m\n\u001b[1;32m    123\u001b[0m \u001b[0;34m\u001b[0m\u001b[0m\n",
      "\u001b[0;32m~/Documents/Development/Propulsion/pygasflow/pygasflow/solvers/shockwave.py\u001b[0m in \u001b[0;36mconical_shockwave_solver\u001b[0;34m(M1, param_name, param_value, gamma, flag)\u001b[0m\n\u001b[1;32m    273\u001b[0m         \u001b[0mMc\u001b[0m\u001b[0;34m,\u001b[0m \u001b[0mtheta_c\u001b[0m \u001b[0;34m=\u001b[0m \u001b[0mmach_cone_angle_from_shock_angle\u001b[0m\u001b[0;34m(\u001b[0m\u001b[0mM1\u001b[0m\u001b[0;34m,\u001b[0m \u001b[0mbeta\u001b[0m\u001b[0;34m,\u001b[0m \u001b[0mgamma\u001b[0m\u001b[0;34m)\u001b[0m\u001b[0;34m\u001b[0m\u001b[0;34m\u001b[0m\u001b[0m\n\u001b[1;32m    274\u001b[0m     \u001b[0;32melif\u001b[0m \u001b[0mtheta_c\u001b[0m\u001b[0;34m:\u001b[0m\u001b[0;34m\u001b[0m\u001b[0;34m\u001b[0m\u001b[0m\n\u001b[0;32m--> 275\u001b[0;31m         \u001b[0mMc\u001b[0m\u001b[0;34m,\u001b[0m \u001b[0m_\u001b[0m\u001b[0;34m,\u001b[0m \u001b[0mbeta\u001b[0m \u001b[0;34m=\u001b[0m \u001b[0mshock_angle_from_mach_cone_angle\u001b[0m\u001b[0;34m(\u001b[0m\u001b[0mM1\u001b[0m\u001b[0;34m,\u001b[0m \u001b[0mtheta_c\u001b[0m\u001b[0;34m,\u001b[0m \u001b[0mgamma\u001b[0m\u001b[0;34m,\u001b[0m \u001b[0mflag\u001b[0m\u001b[0;34m)\u001b[0m\u001b[0;34m\u001b[0m\u001b[0;34m\u001b[0m\u001b[0m\n\u001b[0m\u001b[1;32m    276\u001b[0m \u001b[0;34m\u001b[0m\u001b[0m\n\u001b[1;32m    277\u001b[0m     \u001b[0;31m# compute the ratios across the shockwave\u001b[0m\u001b[0;34m\u001b[0m\u001b[0;34m\u001b[0m\u001b[0;34m\u001b[0m\u001b[0m\n",
      "\u001b[0;32m~/Documents/Development/Propulsion/pygasflow/pygasflow/utils/decorators.py\u001b[0m in \u001b[0;36mwrapper_function\u001b[0;34m(*args, **kwargs)\u001b[0m\n\u001b[1;32m    204\u001b[0m                 \u001b[0;32mif\u001b[0m \u001b[0mi\u001b[0m \u001b[0;34m<\u001b[0m \u001b[0mlen\u001b[0m\u001b[0;34m(\u001b[0m\u001b[0margs\u001b[0m\u001b[0;34m)\u001b[0m\u001b[0;34m:\u001b[0m\u001b[0;34m\u001b[0m\u001b[0;34m\u001b[0m\u001b[0m\n\u001b[1;32m    205\u001b[0m                     \u001b[0margs\u001b[0m\u001b[0;34m[\u001b[0m\u001b[0mi\u001b[0m\u001b[0;34m]\u001b[0m \u001b[0;34m=\u001b[0m \u001b[0mconvert_to_ndarray\u001b[0m\u001b[0;34m(\u001b[0m\u001b[0margs\u001b[0m\u001b[0;34m[\u001b[0m\u001b[0mi\u001b[0m\u001b[0;34m]\u001b[0m\u001b[0;34m)\u001b[0m\u001b[0;34m\u001b[0m\u001b[0;34m\u001b[0m\u001b[0m\n\u001b[0;32m--> 206\u001b[0;31m             \u001b[0;32mreturn\u001b[0m \u001b[0moriginal_function\u001b[0m\u001b[0;34m(\u001b[0m\u001b[0;34m*\u001b[0m\u001b[0margs\u001b[0m\u001b[0;34m,\u001b[0m \u001b[0;34m**\u001b[0m\u001b[0mkwargs\u001b[0m\u001b[0;34m)\u001b[0m\u001b[0;34m\u001b[0m\u001b[0;34m\u001b[0m\u001b[0m\n\u001b[0m\u001b[1;32m    207\u001b[0m         \u001b[0mwrapper_function\u001b[0m\u001b[0;34m.\u001b[0m\u001b[0m__no_check\u001b[0m \u001b[0;34m=\u001b[0m \u001b[0moriginal_function\u001b[0m\u001b[0;34m\u001b[0m\u001b[0;34m\u001b[0m\u001b[0m\n\u001b[1;32m    208\u001b[0m         \u001b[0;32mreturn\u001b[0m \u001b[0mwrapper_function\u001b[0m\u001b[0;34m\u001b[0m\u001b[0;34m\u001b[0m\u001b[0m\n",
      "\u001b[0;32m~/Documents/Development/Propulsion/pygasflow/pygasflow/utils/decorators.py\u001b[0m in \u001b[0;36mwrapper_function\u001b[0;34m(*args, **kwargs)\u001b[0m\n\u001b[1;32m    119\u001b[0m                 \u001b[0margs\u001b[0m\u001b[0;34m[\u001b[0m\u001b[0;34m-\u001b[0m\u001b[0;36m1\u001b[0m\u001b[0;34m]\u001b[0m \u001b[0;34m=\u001b[0m \u001b[0m_check_flag_shockwave\u001b[0m\u001b[0;34m(\u001b[0m\u001b[0mall_param\u001b[0m\u001b[0;34m[\u001b[0m\u001b[0;34m\"flag\"\u001b[0m\u001b[0;34m]\u001b[0m\u001b[0;34m)\u001b[0m\u001b[0;34m\u001b[0m\u001b[0;34m\u001b[0m\u001b[0m\n\u001b[1;32m    120\u001b[0m \u001b[0;34m\u001b[0m\u001b[0m\n\u001b[0;32m--> 121\u001b[0;31m             \u001b[0mres\u001b[0m \u001b[0;34m=\u001b[0m \u001b[0moriginal_function\u001b[0m\u001b[0;34m(\u001b[0m\u001b[0;34m*\u001b[0m\u001b[0margs\u001b[0m\u001b[0;34m,\u001b[0m \u001b[0;34m**\u001b[0m\u001b[0mkwargs\u001b[0m\u001b[0;34m)\u001b[0m\u001b[0;34m\u001b[0m\u001b[0;34m\u001b[0m\u001b[0m\n\u001b[0m\u001b[1;32m    122\u001b[0m             \u001b[0;32mreturn\u001b[0m \u001b[0mret_correct_vals\u001b[0m\u001b[0;34m(\u001b[0m\u001b[0mres\u001b[0m\u001b[0;34m)\u001b[0m\u001b[0;34m\u001b[0m\u001b[0;34m\u001b[0m\u001b[0m\n\u001b[1;32m    123\u001b[0m \u001b[0;34m\u001b[0m\u001b[0m\n",
      "\u001b[0;32m~/Documents/Development/Propulsion/pygasflow/pygasflow/shockwave.py\u001b[0m in \u001b[0;36mshock_angle_from_mach_cone_angle\u001b[0;34m(M1, theta_c, gamma, flag)\u001b[0m\n\u001b[1;32m   1148\u001b[0m         \u001b[0mMc\u001b[0m \u001b[0;34m=\u001b[0m \u001b[0mnp\u001b[0m\u001b[0;34m.\u001b[0m\u001b[0mzeros_like\u001b[0m\u001b[0;34m(\u001b[0m\u001b[0mM1\u001b[0m\u001b[0;34m)\u001b[0m\u001b[0;34m\u001b[0m\u001b[0;34m\u001b[0m\u001b[0m\n\u001b[1;32m   1149\u001b[0m         \u001b[0;32mfor\u001b[0m \u001b[0mi\u001b[0m\u001b[0;34m,\u001b[0m \u001b[0mm\u001b[0m \u001b[0;32min\u001b[0m \u001b[0menumerate\u001b[0m\u001b[0;34m(\u001b[0m\u001b[0mM1\u001b[0m\u001b[0;34m)\u001b[0m\u001b[0;34m:\u001b[0m\u001b[0;34m\u001b[0m\u001b[0;34m\u001b[0m\u001b[0m\n\u001b[0;32m-> 1150\u001b[0;31m             \u001b[0mMc\u001b[0m\u001b[0;34m[\u001b[0m\u001b[0mi\u001b[0m\u001b[0;34m]\u001b[0m\u001b[0;34m,\u001b[0m \u001b[0mtheta_c_comp\u001b[0m\u001b[0;34m[\u001b[0m\u001b[0mi\u001b[0m\u001b[0;34m]\u001b[0m\u001b[0;34m,\u001b[0m \u001b[0mbeta\u001b[0m\u001b[0;34m[\u001b[0m\u001b[0mi\u001b[0m\u001b[0;34m]\u001b[0m \u001b[0;34m=\u001b[0m \u001b[0mfunction\u001b[0m\u001b[0;34m(\u001b[0m\u001b[0mm\u001b[0m\u001b[0;34m)\u001b[0m\u001b[0;34m\u001b[0m\u001b[0;34m\u001b[0m\u001b[0m\n\u001b[0m\u001b[1;32m   1151\u001b[0m         \u001b[0;32mreturn\u001b[0m \u001b[0mret_correct_vals\u001b[0m\u001b[0;34m(\u001b[0m\u001b[0mMc\u001b[0m\u001b[0;34m)\u001b[0m\u001b[0;34m,\u001b[0m \u001b[0mret_correct_vals\u001b[0m\u001b[0;34m(\u001b[0m\u001b[0mtheta_c_comp\u001b[0m\u001b[0;34m)\u001b[0m\u001b[0;34m,\u001b[0m \u001b[0mret_correct_vals\u001b[0m\u001b[0;34m(\u001b[0m\u001b[0mbeta\u001b[0m\u001b[0;34m)\u001b[0m\u001b[0;34m\u001b[0m\u001b[0;34m\u001b[0m\u001b[0m\n\u001b[1;32m   1152\u001b[0m     \u001b[0;32mreturn\u001b[0m \u001b[0mfunction\u001b[0m\u001b[0;34m(\u001b[0m\u001b[0mM1\u001b[0m\u001b[0;34m)\u001b[0m\u001b[0;34m\u001b[0m\u001b[0;34m\u001b[0m\u001b[0m\n",
      "\u001b[0;32m~/Documents/Development/Propulsion/pygasflow/pygasflow/shockwave.py\u001b[0m in \u001b[0;36mfunction\u001b[0;34m(M)\u001b[0m\n\u001b[1;32m   1125\u001b[0m                 \u001b[0;34m\"M1 = {}\\n\"\u001b[0m\u001b[0;34m.\u001b[0m\u001b[0mformat\u001b[0m\u001b[0;34m(\u001b[0m\u001b[0mM1\u001b[0m\u001b[0;34m)\u001b[0m \u001b[0;34m+\u001b[0m\u001b[0;34m\u001b[0m\u001b[0;34m\u001b[0m\u001b[0m\n\u001b[1;32m   1126\u001b[0m                 \u001b[0;34m\"theta_c_max(M1) = {}\\n\"\u001b[0m\u001b[0;34m.\u001b[0m\u001b[0mformat\u001b[0m\u001b[0;34m(\u001b[0m\u001b[0mtcmax\u001b[0m\u001b[0;34m)\u001b[0m \u001b[0;34m+\u001b[0m\u001b[0;34m\u001b[0m\u001b[0;34m\u001b[0m\u001b[0m\n\u001b[0;32m-> 1127\u001b[0;31m                 \"theta_c = {}\\n\".format(theta_c))\n\u001b[0m\u001b[1;32m   1128\u001b[0m \u001b[0;34m\u001b[0m\u001b[0m\n\u001b[1;32m   1129\u001b[0m         \u001b[0;31m# need to add a small offset otherwise mach_cone_angle_from_shock_angle\u001b[0m\u001b[0;34m\u001b[0m\u001b[0;34m\u001b[0m\u001b[0;34m\u001b[0m\u001b[0m\n",
      "\u001b[0;31mValueError\u001b[0m: Detachment detected: can't solve the flow when theta_c > theta_c_max.\nM1 = [2.]\ntheta_c_max(M1) = 40.688476890932144\ntheta_c = 45\n"
     ]
    }
   ],
   "source": [
    "result = conical_shockwave_solver(2, 'theta_c', 45)\n",
    "Print_Conical_Shockwave(*result)"
   ]
  },
  {
   "cell_type": "code",
   "execution_count": null,
   "metadata": {},
   "outputs": [],
   "source": []
  }
 ],
 "metadata": {
  "kernelspec": {
   "display_name": "myenv",
   "language": "python",
   "name": "myenv"
  },
  "language_info": {
   "codemirror_mode": {
    "name": "ipython",
    "version": 3
   },
   "file_extension": ".py",
   "mimetype": "text/x-python",
   "name": "python",
   "nbconvert_exporter": "python",
   "pygments_lexer": "ipython3",
   "version": "3.7.5"
  },
  "toc": {
   "base_numbering": 1,
   "nav_menu": {},
   "number_sections": true,
   "sideBar": true,
   "skip_h1_title": false,
   "title_cell": "Table of Contents",
   "title_sidebar": "Contents",
   "toc_cell": false,
   "toc_position": {},
   "toc_section_display": true,
   "toc_window_display": false
  }
 },
 "nbformat": 4,
 "nbformat_minor": 2
}
